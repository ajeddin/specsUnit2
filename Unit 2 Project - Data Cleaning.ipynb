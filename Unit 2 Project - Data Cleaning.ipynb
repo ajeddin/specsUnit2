{
 "cells": [
  {
   "cell_type": "markdown",
   "id": "a4718e28",
   "metadata": {},
   "source": [
    "# Unit 2 Project - Data Cleaning "
   ]
  },
  {
   "cell_type": "markdown",
   "id": "7e497310",
   "metadata": {},
   "source": [
    "## Part 1: Prepare Environment and Jupyter Notebook"
   ]
  },
  {
   "cell_type": "markdown",
   "id": "af19cd7e",
   "metadata": {},
   "source": [
    "### Step 1: Create Virtual Environment\n",
    "\n",
    "This step should have been completed prior to opening the Jupyter Notebook. Refer to project instructions."
   ]
  },
  {
   "cell_type": "markdown",
   "id": "056e8cce",
   "metadata": {},
   "source": [
    "### Step 2: Open Jupyter Notebook File\n",
    "\n",
    "Congratulations! If you're here it means you have completed Step 2. "
   ]
  },
  {
   "cell_type": "markdown",
   "id": "4af0ea78",
   "metadata": {},
   "source": [
    "### Step 3: Load .csv Files into DataFrames"
   ]
  },
  {
   "cell_type": "code",
   "execution_count": 1,
   "id": "e1aa71a2",
   "metadata": {},
   "outputs": [],
   "source": [
    "import pandas as pd"
   ]
  },
  {
   "cell_type": "code",
   "execution_count": 2,
   "id": "f639cd26",
   "metadata": {},
   "outputs": [],
   "source": [
    "####### TO DO ########\n",
    "\n",
    "# load house_data.csv into a dataframe using pd.read_csv()\n",
    "houseData = pd.read_csv('house_data.csv')\n",
    "\n",
    "# load house_sales.csv into a dataframe using pd.read_csv()\n",
    "houseSales = pd.read_csv('house_sales.csv')\n",
    "######################"
   ]
  },
  {
   "cell_type": "code",
   "execution_count": 3,
   "id": "e242b38c",
   "metadata": {},
   "outputs": [
    {
     "data": {
      "text/html": [
       "<div>\n",
       "<style scoped>\n",
       "    .dataframe tbody tr th:only-of-type {\n",
       "        vertical-align: middle;\n",
       "    }\n",
       "\n",
       "    .dataframe tbody tr th {\n",
       "        vertical-align: top;\n",
       "    }\n",
       "\n",
       "    .dataframe thead th {\n",
       "        text-align: right;\n",
       "    }\n",
       "</style>\n",
       "<table border=\"1\" class=\"dataframe\">\n",
       "  <thead>\n",
       "    <tr style=\"text-align: right;\">\n",
       "      <th></th>\n",
       "      <th>Unnamed: 0</th>\n",
       "      <th>ID</th>\n",
       "      <th>Bedrooms</th>\n",
       "      <th>Bathrooms</th>\n",
       "      <th>SQFT living</th>\n",
       "      <th>SQFT lot</th>\n",
       "      <th>Floors</th>\n",
       "      <th>Waterfront?</th>\n",
       "      <th>View</th>\n",
       "      <th>House Condition</th>\n",
       "      <th>Grade</th>\n",
       "      <th>SQFT above</th>\n",
       "      <th>SQFT basement</th>\n",
       "      <th>Year Built</th>\n",
       "      <th>Year Renovated</th>\n",
       "      <th>Zipcode</th>\n",
       "      <th>Lat</th>\n",
       "      <th>Long</th>\n",
       "      <th>SQFT living 15</th>\n",
       "      <th>SQFT lot 15</th>\n",
       "    </tr>\n",
       "  </thead>\n",
       "  <tbody>\n",
       "    <tr>\n",
       "      <th>0</th>\n",
       "      <td>0</td>\n",
       "      <td>7129300520</td>\n",
       "      <td>3</td>\n",
       "      <td>1.00</td>\n",
       "      <td>1180</td>\n",
       "      <td>5650.0</td>\n",
       "      <td>1.0</td>\n",
       "      <td>No</td>\n",
       "      <td>Very Poor</td>\n",
       "      <td>OK Condition</td>\n",
       "      <td>7.0</td>\n",
       "      <td>1180.0</td>\n",
       "      <td>0</td>\n",
       "      <td>1955.0</td>\n",
       "      <td>NaN</td>\n",
       "      <td>98178.0</td>\n",
       "      <td>47.5112</td>\n",
       "      <td>-122.257</td>\n",
       "      <td>1340</td>\n",
       "      <td>5650</td>\n",
       "    </tr>\n",
       "    <tr>\n",
       "      <th>1</th>\n",
       "      <td>1</td>\n",
       "      <td>6414100192</td>\n",
       "      <td>3</td>\n",
       "      <td>2.25</td>\n",
       "      <td>2570</td>\n",
       "      <td>7242.0</td>\n",
       "      <td>2.0</td>\n",
       "      <td>No</td>\n",
       "      <td>Very Poor</td>\n",
       "      <td>OK Condition</td>\n",
       "      <td>7.0</td>\n",
       "      <td>2170.0</td>\n",
       "      <td>400</td>\n",
       "      <td>1951.0</td>\n",
       "      <td>1991.0</td>\n",
       "      <td>98125.0</td>\n",
       "      <td>47.7210</td>\n",
       "      <td>-122.319</td>\n",
       "      <td>1690</td>\n",
       "      <td>7639</td>\n",
       "    </tr>\n",
       "    <tr>\n",
       "      <th>2</th>\n",
       "      <td>2</td>\n",
       "      <td>5631500400</td>\n",
       "      <td>2</td>\n",
       "      <td>1.00</td>\n",
       "      <td>770</td>\n",
       "      <td>10000.0</td>\n",
       "      <td>1.0</td>\n",
       "      <td>No</td>\n",
       "      <td>Very Poor</td>\n",
       "      <td>OK Condition</td>\n",
       "      <td>6.0</td>\n",
       "      <td>770.0</td>\n",
       "      <td>0</td>\n",
       "      <td>1933.0</td>\n",
       "      <td>NaN</td>\n",
       "      <td>98028.0</td>\n",
       "      <td>47.7379</td>\n",
       "      <td>-122.233</td>\n",
       "      <td>2720</td>\n",
       "      <td>8062</td>\n",
       "    </tr>\n",
       "    <tr>\n",
       "      <th>3</th>\n",
       "      <td>3</td>\n",
       "      <td>2487200875</td>\n",
       "      <td>4</td>\n",
       "      <td>3.00</td>\n",
       "      <td>1960</td>\n",
       "      <td>5000.0</td>\n",
       "      <td>1.0</td>\n",
       "      <td>No</td>\n",
       "      <td>Very Poor</td>\n",
       "      <td>Great Condition</td>\n",
       "      <td>7.0</td>\n",
       "      <td>1050.0</td>\n",
       "      <td>910</td>\n",
       "      <td>1965.0</td>\n",
       "      <td>NaN</td>\n",
       "      <td>98136.0</td>\n",
       "      <td>47.5208</td>\n",
       "      <td>-122.393</td>\n",
       "      <td>1360</td>\n",
       "      <td>5000</td>\n",
       "    </tr>\n",
       "    <tr>\n",
       "      <th>4</th>\n",
       "      <td>4</td>\n",
       "      <td>1954400510</td>\n",
       "      <td>3</td>\n",
       "      <td>2.00</td>\n",
       "      <td>1680</td>\n",
       "      <td>8080.0</td>\n",
       "      <td>1.0</td>\n",
       "      <td>No</td>\n",
       "      <td>Very Poor</td>\n",
       "      <td>OK Condition</td>\n",
       "      <td>8.0</td>\n",
       "      <td>1680.0</td>\n",
       "      <td>0</td>\n",
       "      <td>1987.0</td>\n",
       "      <td>NaN</td>\n",
       "      <td>98074.0</td>\n",
       "      <td>47.6168</td>\n",
       "      <td>-122.045</td>\n",
       "      <td>1800</td>\n",
       "      <td>7503</td>\n",
       "    </tr>\n",
       "  </tbody>\n",
       "</table>\n",
       "</div>"
      ],
      "text/plain": [
       "   Unnamed: 0          ID  Bedrooms  Bathrooms  SQFT living  SQFT lot  Floors  \\\n",
       "0           0  7129300520         3       1.00         1180    5650.0     1.0   \n",
       "1           1  6414100192         3       2.25         2570    7242.0     2.0   \n",
       "2           2  5631500400         2       1.00          770   10000.0     1.0   \n",
       "3           3  2487200875         4       3.00         1960    5000.0     1.0   \n",
       "4           4  1954400510         3       2.00         1680    8080.0     1.0   \n",
       "\n",
       "  Waterfront?       View  House Condition  Grade  SQFT above  SQFT basement  \\\n",
       "0          No  Very Poor     OK Condition    7.0      1180.0              0   \n",
       "1          No  Very Poor     OK Condition    7.0      2170.0            400   \n",
       "2          No  Very Poor     OK Condition    6.0       770.0              0   \n",
       "3          No  Very Poor  Great Condition    7.0      1050.0            910   \n",
       "4          No  Very Poor     OK Condition    8.0      1680.0              0   \n",
       "\n",
       "   Year Built  Year Renovated  Zipcode      Lat     Long  SQFT living 15  \\\n",
       "0      1955.0             NaN  98178.0  47.5112 -122.257            1340   \n",
       "1      1951.0          1991.0  98125.0  47.7210 -122.319            1690   \n",
       "2      1933.0             NaN  98028.0  47.7379 -122.233            2720   \n",
       "3      1965.0             NaN  98136.0  47.5208 -122.393            1360   \n",
       "4      1987.0             NaN  98074.0  47.6168 -122.045            1800   \n",
       "\n",
       "   SQFT lot 15  \n",
       "0         5650  \n",
       "1         7639  \n",
       "2         8062  \n",
       "3         5000  \n",
       "4         7503  "
      ]
     },
     "execution_count": 3,
     "metadata": {},
     "output_type": "execute_result"
    }
   ],
   "source": [
    "###### TO DO ######\n",
    "\n",
    "# use .head() on your new dataframe to show the dataframe was loaded succussfully\n",
    "houseData.head()"
   ]
  },
  {
   "cell_type": "code",
   "execution_count": 4,
   "id": "3ca8a987",
   "metadata": {},
   "outputs": [
    {
     "data": {
      "text/html": [
       "<div>\n",
       "<style scoped>\n",
       "    .dataframe tbody tr th:only-of-type {\n",
       "        vertical-align: middle;\n",
       "    }\n",
       "\n",
       "    .dataframe tbody tr th {\n",
       "        vertical-align: top;\n",
       "    }\n",
       "\n",
       "    .dataframe thead th {\n",
       "        text-align: right;\n",
       "    }\n",
       "</style>\n",
       "<table border=\"1\" class=\"dataframe\">\n",
       "  <thead>\n",
       "    <tr style=\"text-align: right;\">\n",
       "      <th></th>\n",
       "      <th>Unnamed: 0</th>\n",
       "      <th>Id</th>\n",
       "      <th>DATE</th>\n",
       "      <th>Price</th>\n",
       "    </tr>\n",
       "  </thead>\n",
       "  <tbody>\n",
       "    <tr>\n",
       "      <th>0</th>\n",
       "      <td>0</td>\n",
       "      <td>7129300520</td>\n",
       "      <td>20141013T000000</td>\n",
       "      <td>$221,900.00</td>\n",
       "    </tr>\n",
       "    <tr>\n",
       "      <th>1</th>\n",
       "      <td>1</td>\n",
       "      <td>6414100192</td>\n",
       "      <td>20141209T000000</td>\n",
       "      <td>$538,000.00</td>\n",
       "    </tr>\n",
       "    <tr>\n",
       "      <th>2</th>\n",
       "      <td>2</td>\n",
       "      <td>5631500400</td>\n",
       "      <td>20150225T000000</td>\n",
       "      <td>$180,000.00</td>\n",
       "    </tr>\n",
       "    <tr>\n",
       "      <th>3</th>\n",
       "      <td>3</td>\n",
       "      <td>2487200875</td>\n",
       "      <td>20141209T000000</td>\n",
       "      <td>$604,000.00</td>\n",
       "    </tr>\n",
       "    <tr>\n",
       "      <th>4</th>\n",
       "      <td>4</td>\n",
       "      <td>1954400510</td>\n",
       "      <td>20150218T000000</td>\n",
       "      <td>$510,000.00</td>\n",
       "    </tr>\n",
       "  </tbody>\n",
       "</table>\n",
       "</div>"
      ],
      "text/plain": [
       "   Unnamed: 0          Id             DATE        Price\n",
       "0           0  7129300520  20141013T000000  $221,900.00\n",
       "1           1  6414100192  20141209T000000  $538,000.00\n",
       "2           2  5631500400  20150225T000000  $180,000.00\n",
       "3           3  2487200875  20141209T000000  $604,000.00\n",
       "4           4  1954400510  20150218T000000  $510,000.00"
      ]
     },
     "execution_count": 4,
     "metadata": {},
     "output_type": "execute_result"
    }
   ],
   "source": [
    "###### TO DO ######\n",
    "\n",
    "# use .head() on your second new dataframe to show the dataframe was loaded succussfully\n",
    "houseSales.head()"
   ]
  },
  {
   "cell_type": "markdown",
   "id": "07f969b2",
   "metadata": {},
   "source": [
    "### Step 4: Create Data Dictionaries for Each Dataset"
   ]
  },
  {
   "cell_type": "code",
   "execution_count": 5,
   "id": "2da245c7",
   "metadata": {},
   "outputs": [],
   "source": [
    "####### TO DO ###########\n",
    "\n",
    "# Work in the cells below to fill in missing information in the data dictionary. \n"
   ]
  },
  {
   "cell_type": "markdown",
   "id": "65828aca",
   "metadata": {},
   "source": [
    "#### Data Dictionary - House Data\n",
    "\n",
    "**id**:\n",
    "> Description: The id for the speceifc house\n",
    ">\t\n",
    "> Data type: int\n",
    "\n",
    "**bedrooms**:\n",
    "> Description: \n",
    ">\n",
    "> Data type:int\n",
    "\n",
    "**bathrooms**:\n",
    "> Description:\n",
    ">\n",
    "> Data type:float64\n",
    "\n",
    "**sqft_living**:\n",
    "> Description:\n",
    ">\n",
    "> Data type:int64  \n",
    "\n",
    "**sqft_lot**:\n",
    "> Description:\n",
    ">\n",
    "> Data type:float64\n",
    "\n",
    "**floors**:\n",
    "> Description:\n",
    ">\n",
    "> Data type:float64\n",
    "\n",
    "**waterfront**:\n",
    "> Description:\n",
    ">\n",
    "> Data type:obj\n",
    "\n",
    "**view**:\n",
    "> Description:\n",
    ">\n",
    "> Data type:obj\n",
    "\n",
    "**condition**:\n",
    "> Description:\n",
    ">\n",
    "> Data type:obj\n",
    "\n",
    "**grade**:\n",
    "> Description:\n",
    ">\n",
    "> Data type:flouat\n",
    "\n",
    "**sqft_above**:\n",
    "> Description:\n",
    ">\n",
    "> Data type:float\n",
    "\n",
    "**sqft_basement**:\n",
    "> Description:\n",
    ">\n",
    "> Data type:int\n",
    "\n",
    "**yr_built**:\n",
    "> Description:\n",
    ">\n",
    "> Data type:float64\n",
    "\n",
    "**yr_renovated**:\n",
    "> Description:\n",
    ">\n",
    "> Data type:float64\n",
    "\n",
    "**zipcode**:\n",
    "> Description:\n",
    ">\n",
    "> Data type:float64\n",
    "\n",
    "**lat**:\n",
    "> Description:\n",
    ">\n",
    "> Data type:float64\n",
    "\n",
    "**long**:\n",
    "> Description:\n",
    ">\n",
    "> Data type:float64\n",
    "\n",
    "**sqft_living15**:\n",
    "> Description:\n",
    ">\n",
    "> Data type:int\n",
    "\n",
    "**sqft_lot15**:\n",
    "> Description:\n",
    ">\n",
    "> Data type:int"
   ]
  },
  {
   "cell_type": "markdown",
   "id": "318fbad1",
   "metadata": {},
   "source": [
    "#### Data Dictionary - House Sales Data\n",
    "\n",
    "**id**:\n",
    "> Description:\n",
    ">\n",
    "> Data type:int\t\n",
    "\n",
    "**date**:\n",
    "> Description:\n",
    ">\n",
    "> Data type:obj\n",
    "\n",
    "**price**:\n",
    "> Description:\n",
    ">\n",
    "> Data type:obj"
   ]
  },
  {
   "cell_type": "markdown",
   "id": "eead3ca6",
   "metadata": {},
   "source": [
    "### Step 5: Create Copies of DataFrames to Start Cleaning Process"
   ]
  },
  {
   "cell_type": "code",
   "execution_count": 5,
   "id": "d1157942",
   "metadata": {},
   "outputs": [],
   "source": [
    "###### TO DO ######\n",
    "\n",
    "# create a copy of house_data\n",
    "houseDatCopy= houseData\n",
    "# create a copy of sales_data\n",
    "houseSalesCopy= houseSales"
   ]
  },
  {
   "cell_type": "code",
   "execution_count": 6,
   "id": "ef764ac9",
   "metadata": {},
   "outputs": [
    {
     "data": {
      "text/html": [
       "<div>\n",
       "<style scoped>\n",
       "    .dataframe tbody tr th:only-of-type {\n",
       "        vertical-align: middle;\n",
       "    }\n",
       "\n",
       "    .dataframe tbody tr th {\n",
       "        vertical-align: top;\n",
       "    }\n",
       "\n",
       "    .dataframe thead th {\n",
       "        text-align: right;\n",
       "    }\n",
       "</style>\n",
       "<table border=\"1\" class=\"dataframe\">\n",
       "  <thead>\n",
       "    <tr style=\"text-align: right;\">\n",
       "      <th></th>\n",
       "      <th>Unnamed: 0</th>\n",
       "      <th>ID</th>\n",
       "      <th>Bedrooms</th>\n",
       "      <th>Bathrooms</th>\n",
       "      <th>SQFT living</th>\n",
       "      <th>SQFT lot</th>\n",
       "      <th>Floors</th>\n",
       "      <th>Waterfront?</th>\n",
       "      <th>View</th>\n",
       "      <th>House Condition</th>\n",
       "      <th>Grade</th>\n",
       "      <th>SQFT above</th>\n",
       "      <th>SQFT basement</th>\n",
       "      <th>Year Built</th>\n",
       "      <th>Year Renovated</th>\n",
       "      <th>Zipcode</th>\n",
       "      <th>Lat</th>\n",
       "      <th>Long</th>\n",
       "      <th>SQFT living 15</th>\n",
       "      <th>SQFT lot 15</th>\n",
       "    </tr>\n",
       "  </thead>\n",
       "  <tbody>\n",
       "    <tr>\n",
       "      <th>0</th>\n",
       "      <td>0</td>\n",
       "      <td>7129300520</td>\n",
       "      <td>3</td>\n",
       "      <td>1.00</td>\n",
       "      <td>1180</td>\n",
       "      <td>5650.0</td>\n",
       "      <td>1.0</td>\n",
       "      <td>No</td>\n",
       "      <td>Very Poor</td>\n",
       "      <td>OK Condition</td>\n",
       "      <td>7.0</td>\n",
       "      <td>1180.0</td>\n",
       "      <td>0</td>\n",
       "      <td>1955.0</td>\n",
       "      <td>NaN</td>\n",
       "      <td>98178.0</td>\n",
       "      <td>47.5112</td>\n",
       "      <td>-122.257</td>\n",
       "      <td>1340</td>\n",
       "      <td>5650</td>\n",
       "    </tr>\n",
       "    <tr>\n",
       "      <th>1</th>\n",
       "      <td>1</td>\n",
       "      <td>6414100192</td>\n",
       "      <td>3</td>\n",
       "      <td>2.25</td>\n",
       "      <td>2570</td>\n",
       "      <td>7242.0</td>\n",
       "      <td>2.0</td>\n",
       "      <td>No</td>\n",
       "      <td>Very Poor</td>\n",
       "      <td>OK Condition</td>\n",
       "      <td>7.0</td>\n",
       "      <td>2170.0</td>\n",
       "      <td>400</td>\n",
       "      <td>1951.0</td>\n",
       "      <td>1991.0</td>\n",
       "      <td>98125.0</td>\n",
       "      <td>47.7210</td>\n",
       "      <td>-122.319</td>\n",
       "      <td>1690</td>\n",
       "      <td>7639</td>\n",
       "    </tr>\n",
       "    <tr>\n",
       "      <th>2</th>\n",
       "      <td>2</td>\n",
       "      <td>5631500400</td>\n",
       "      <td>2</td>\n",
       "      <td>1.00</td>\n",
       "      <td>770</td>\n",
       "      <td>10000.0</td>\n",
       "      <td>1.0</td>\n",
       "      <td>No</td>\n",
       "      <td>Very Poor</td>\n",
       "      <td>OK Condition</td>\n",
       "      <td>6.0</td>\n",
       "      <td>770.0</td>\n",
       "      <td>0</td>\n",
       "      <td>1933.0</td>\n",
       "      <td>NaN</td>\n",
       "      <td>98028.0</td>\n",
       "      <td>47.7379</td>\n",
       "      <td>-122.233</td>\n",
       "      <td>2720</td>\n",
       "      <td>8062</td>\n",
       "    </tr>\n",
       "    <tr>\n",
       "      <th>3</th>\n",
       "      <td>3</td>\n",
       "      <td>2487200875</td>\n",
       "      <td>4</td>\n",
       "      <td>3.00</td>\n",
       "      <td>1960</td>\n",
       "      <td>5000.0</td>\n",
       "      <td>1.0</td>\n",
       "      <td>No</td>\n",
       "      <td>Very Poor</td>\n",
       "      <td>Great Condition</td>\n",
       "      <td>7.0</td>\n",
       "      <td>1050.0</td>\n",
       "      <td>910</td>\n",
       "      <td>1965.0</td>\n",
       "      <td>NaN</td>\n",
       "      <td>98136.0</td>\n",
       "      <td>47.5208</td>\n",
       "      <td>-122.393</td>\n",
       "      <td>1360</td>\n",
       "      <td>5000</td>\n",
       "    </tr>\n",
       "    <tr>\n",
       "      <th>4</th>\n",
       "      <td>4</td>\n",
       "      <td>1954400510</td>\n",
       "      <td>3</td>\n",
       "      <td>2.00</td>\n",
       "      <td>1680</td>\n",
       "      <td>8080.0</td>\n",
       "      <td>1.0</td>\n",
       "      <td>No</td>\n",
       "      <td>Very Poor</td>\n",
       "      <td>OK Condition</td>\n",
       "      <td>8.0</td>\n",
       "      <td>1680.0</td>\n",
       "      <td>0</td>\n",
       "      <td>1987.0</td>\n",
       "      <td>NaN</td>\n",
       "      <td>98074.0</td>\n",
       "      <td>47.6168</td>\n",
       "      <td>-122.045</td>\n",
       "      <td>1800</td>\n",
       "      <td>7503</td>\n",
       "    </tr>\n",
       "  </tbody>\n",
       "</table>\n",
       "</div>"
      ],
      "text/plain": [
       "   Unnamed: 0          ID  Bedrooms  Bathrooms  SQFT living  SQFT lot  Floors  \\\n",
       "0           0  7129300520         3       1.00         1180    5650.0     1.0   \n",
       "1           1  6414100192         3       2.25         2570    7242.0     2.0   \n",
       "2           2  5631500400         2       1.00          770   10000.0     1.0   \n",
       "3           3  2487200875         4       3.00         1960    5000.0     1.0   \n",
       "4           4  1954400510         3       2.00         1680    8080.0     1.0   \n",
       "\n",
       "  Waterfront?       View  House Condition  Grade  SQFT above  SQFT basement  \\\n",
       "0          No  Very Poor     OK Condition    7.0      1180.0              0   \n",
       "1          No  Very Poor     OK Condition    7.0      2170.0            400   \n",
       "2          No  Very Poor     OK Condition    6.0       770.0              0   \n",
       "3          No  Very Poor  Great Condition    7.0      1050.0            910   \n",
       "4          No  Very Poor     OK Condition    8.0      1680.0              0   \n",
       "\n",
       "   Year Built  Year Renovated  Zipcode      Lat     Long  SQFT living 15  \\\n",
       "0      1955.0             NaN  98178.0  47.5112 -122.257            1340   \n",
       "1      1951.0          1991.0  98125.0  47.7210 -122.319            1690   \n",
       "2      1933.0             NaN  98028.0  47.7379 -122.233            2720   \n",
       "3      1965.0             NaN  98136.0  47.5208 -122.393            1360   \n",
       "4      1987.0             NaN  98074.0  47.6168 -122.045            1800   \n",
       "\n",
       "   SQFT lot 15  \n",
       "0         5650  \n",
       "1         7639  \n",
       "2         8062  \n",
       "3         5000  \n",
       "4         7503  "
      ]
     },
     "execution_count": 6,
     "metadata": {},
     "output_type": "execute_result"
    }
   ],
   "source": [
    "###### TO DO ######\n",
    "\n",
    "# use .head() on your new dataframe to show the dataframe was copied succussfully\n",
    "houseDatCopy.head()"
   ]
  },
  {
   "cell_type": "code",
   "execution_count": 8,
   "id": "4b9fa892",
   "metadata": {},
   "outputs": [
    {
     "data": {
      "text/html": [
       "<div>\n",
       "<style scoped>\n",
       "    .dataframe tbody tr th:only-of-type {\n",
       "        vertical-align: middle;\n",
       "    }\n",
       "\n",
       "    .dataframe tbody tr th {\n",
       "        vertical-align: top;\n",
       "    }\n",
       "\n",
       "    .dataframe thead th {\n",
       "        text-align: right;\n",
       "    }\n",
       "</style>\n",
       "<table border=\"1\" class=\"dataframe\">\n",
       "  <thead>\n",
       "    <tr style=\"text-align: right;\">\n",
       "      <th></th>\n",
       "      <th>Unnamed: 0</th>\n",
       "      <th>Id</th>\n",
       "      <th>DATE</th>\n",
       "      <th>Price</th>\n",
       "    </tr>\n",
       "  </thead>\n",
       "  <tbody>\n",
       "    <tr>\n",
       "      <th>0</th>\n",
       "      <td>0</td>\n",
       "      <td>7129300520</td>\n",
       "      <td>20141013T000000</td>\n",
       "      <td>$221,900.00</td>\n",
       "    </tr>\n",
       "    <tr>\n",
       "      <th>1</th>\n",
       "      <td>1</td>\n",
       "      <td>6414100192</td>\n",
       "      <td>20141209T000000</td>\n",
       "      <td>$538,000.00</td>\n",
       "    </tr>\n",
       "    <tr>\n",
       "      <th>2</th>\n",
       "      <td>2</td>\n",
       "      <td>5631500400</td>\n",
       "      <td>20150225T000000</td>\n",
       "      <td>$180,000.00</td>\n",
       "    </tr>\n",
       "    <tr>\n",
       "      <th>3</th>\n",
       "      <td>3</td>\n",
       "      <td>2487200875</td>\n",
       "      <td>20141209T000000</td>\n",
       "      <td>$604,000.00</td>\n",
       "    </tr>\n",
       "    <tr>\n",
       "      <th>4</th>\n",
       "      <td>4</td>\n",
       "      <td>1954400510</td>\n",
       "      <td>20150218T000000</td>\n",
       "      <td>$510,000.00</td>\n",
       "    </tr>\n",
       "  </tbody>\n",
       "</table>\n",
       "</div>"
      ],
      "text/plain": [
       "   Unnamed: 0          Id             DATE        Price\n",
       "0           0  7129300520  20141013T000000  $221,900.00\n",
       "1           1  6414100192  20141209T000000  $538,000.00\n",
       "2           2  5631500400  20150225T000000  $180,000.00\n",
       "3           3  2487200875  20141209T000000  $604,000.00\n",
       "4           4  1954400510  20150218T000000  $510,000.00"
      ]
     },
     "execution_count": 8,
     "metadata": {},
     "output_type": "execute_result"
    }
   ],
   "source": [
    "###### TO DO ######\n",
    "\n",
    "# use .head() on your second new dataframe to show the dataframe was copied succussfully\n",
    "houseSalesCopy.head()"
   ]
  },
  {
   "cell_type": "markdown",
   "id": "02736475",
   "metadata": {},
   "source": [
    "## Part 2: Assess Data and Create Data Cleaning Plan"
   ]
  },
  {
   "cell_type": "markdown",
   "id": "1666070a",
   "metadata": {},
   "source": [
    "### Step 1: Check Column Names, Casing, Spelling, Etc."
   ]
  },
  {
   "cell_type": "code",
   "execution_count": 7,
   "id": "7c643181",
   "metadata": {},
   "outputs": [
    {
     "name": "stdout",
     "output_type": "stream",
     "text": [
      "<class 'pandas.core.frame.DataFrame'>\n",
      "RangeIndex: 21613 entries, 0 to 21612\n",
      "Data columns (total 20 columns):\n",
      " #   Column           Non-Null Count  Dtype  \n",
      "---  ------           --------------  -----  \n",
      " 0   Unnamed: 0       21613 non-null  int64  \n",
      " 1   ID               21613 non-null  int64  \n",
      " 2   Bedrooms         21613 non-null  int64  \n",
      " 3   Bathrooms        21611 non-null  float64\n",
      " 4   SQFT living      21613 non-null  int64  \n",
      " 5   SQFT lot         21611 non-null  float64\n",
      " 6   Floors           21613 non-null  float64\n",
      " 7   Waterfront?      21605 non-null  object \n",
      " 8   View             21611 non-null  object \n",
      " 9   House Condition  21607 non-null  object \n",
      " 10  Grade            21611 non-null  float64\n",
      " 11  SQFT above       21612 non-null  float64\n",
      " 12  SQFT basement    21613 non-null  int64  \n",
      " 13  Year Built       21612 non-null  float64\n",
      " 14  Year Renovated   21276 non-null  float64\n",
      " 15  Zipcode          21610 non-null  float64\n",
      " 16  Lat              21612 non-null  float64\n",
      " 17  Long             21612 non-null  float64\n",
      " 18  SQFT living 15   21613 non-null  int64  \n",
      " 19  SQFT lot 15      21613 non-null  int64  \n",
      "dtypes: float64(10), int64(7), object(3)\n",
      "memory usage: 3.3+ MB\n"
     ]
    }
   ],
   "source": [
    "houseDatCopy.info()"
   ]
  },
  {
   "cell_type": "code",
   "execution_count": 8,
   "id": "7a3cdce7",
   "metadata": {},
   "outputs": [
    {
     "name": "stdout",
     "output_type": "stream",
     "text": [
      "<class 'pandas.core.frame.DataFrame'>\n",
      "RangeIndex: 21613 entries, 0 to 21612\n",
      "Data columns (total 4 columns):\n",
      " #   Column      Non-Null Count  Dtype \n",
      "---  ------      --------------  ----- \n",
      " 0   Unnamed: 0  21613 non-null  int64 \n",
      " 1   Id          21613 non-null  int64 \n",
      " 2   DATE        21613 non-null  object\n",
      " 3   Price       21609 non-null  object\n",
      "dtypes: int64(2), object(2)\n",
      "memory usage: 675.5+ KB\n"
     ]
    }
   ],
   "source": [
    "######################### TO DO ###################################\n",
    "\n",
    "####### FOLLOW PROJECT DIRECTIONS TO COMPLETE THIS STEP ###########\n",
    "houseSalesCopy.info()\n"
   ]
  },
  {
   "cell_type": "markdown",
   "id": "2a550fef",
   "metadata": {},
   "source": [
    "### Step 2: Validate Data Types"
   ]
  },
  {
   "cell_type": "code",
   "execution_count": 11,
   "id": "e293ef89",
   "metadata": {},
   "outputs": [],
   "source": [
    "######################### TO DO ###################################\n",
    "\n",
    "####### FOLLOW PROJECT DIRECTIONS TO COMPLETE THIS STEP ###########"
   ]
  },
  {
   "cell_type": "markdown",
   "id": "2eb00941",
   "metadata": {},
   "source": [
    "Q: Do any of the data types in the dataframe need to be changed?"
   ]
  },
  {
   "cell_type": "markdown",
   "id": "b401a0c1",
   "metadata": {},
   "source": [
    "A: #### TO DO #####\n",
    "For Data \n",
    "id should be onj\n",
    "drop unnamed column \n",
    "zipcode should be object \n",
    "For Sales\n",
    "id should be onj\n",
    "Drop unnames column\n",
    "remove $ from price and make float \n",
    "make date a datetime\n"
   ]
  },
  {
   "cell_type": "markdown",
   "id": "dd4fd9cb",
   "metadata": {},
   "source": [
    "### Step 3: Detect Missing Values"
   ]
  },
  {
   "cell_type": "code",
   "execution_count": 9,
   "id": "b17883eb",
   "metadata": {},
   "outputs": [
    {
     "data": {
      "text/plain": [
       "Unnamed: 0           0\n",
       "ID                   0\n",
       "Bedrooms             0\n",
       "Bathrooms            2\n",
       "SQFT living          0\n",
       "SQFT lot             2\n",
       "Floors               0\n",
       "Waterfront?          8\n",
       "View                 2\n",
       "House Condition      6\n",
       "Grade                2\n",
       "SQFT above           1\n",
       "SQFT basement        0\n",
       "Year Built           1\n",
       "Year Renovated     337\n",
       "Zipcode              3\n",
       "Lat                  1\n",
       "Long                 1\n",
       "SQFT living 15       0\n",
       "SQFT lot 15          0\n",
       "dtype: int64"
      ]
     },
     "execution_count": 9,
     "metadata": {},
     "output_type": "execute_result"
    }
   ],
   "source": [
    "houseDatCopy.isnull().sum()"
   ]
  },
  {
   "cell_type": "code",
   "execution_count": 10,
   "id": "1e69dc73",
   "metadata": {},
   "outputs": [
    {
     "data": {
      "text/plain": [
       "Unnamed: 0    0\n",
       "Id            0\n",
       "DATE          0\n",
       "Price         4\n",
       "dtype: int64"
      ]
     },
     "execution_count": 10,
     "metadata": {},
     "output_type": "execute_result"
    }
   ],
   "source": [
    "######################### TO DO ###################################\n",
    "\n",
    "####### FOLLOW PROJECT DIRECTIONS TO COMPLETE THIS STEP ###########\n",
    "houseSalesCopy.isnull().sum()"
   ]
  },
  {
   "cell_type": "markdown",
   "id": "95c2804a",
   "metadata": {},
   "source": [
    "Q: Which variables/columns have missing values?"
   ]
  },
  {
   "cell_type": "markdown",
   "id": "2c83cda7",
   "metadata": {},
   "source": [
    "A: ##### TO DO #####\n",
    "fix NAN values\n",
    "DATA\n",
    "Bathrooms            2\n",
    "SQFT lot             2\n",
    "Waterfront?          8\n",
    "View                 2\n",
    "House Condition      6\n",
    "Grade                2\n",
    "SQFT above           1\n",
    "Year Built           1\n",
    "Year Renovated     337\n",
    "drop this ^\n",
    "Zipcode              3\n",
    "Lat                  1\n",
    "Long                 1\n",
    "SALES \n",
    "Price         4"
   ]
  },
  {
   "cell_type": "markdown",
   "id": "ab831c3a",
   "metadata": {},
   "source": [
    "### Step 4: Detect Outliers"
   ]
  },
  {
   "cell_type": "code",
   "execution_count": 47,
   "id": "ab13309c",
   "metadata": {},
   "outputs": [],
   "source": [
    "######################### TO DO ###################################\n",
    "\n",
    "####### FOLLOW PROJECT DIRECTIONS TO COMPLETE THIS STEP ###########\n",
    "import seaborn as sns"
   ]
  },
  {
   "cell_type": "code",
   "execution_count": 48,
   "id": "307f8cdb",
   "metadata": {},
   "outputs": [
    {
     "data": {
      "text/plain": [
       "<AxesSubplot: >"
      ]
     },
     "execution_count": 48,
     "metadata": {},
     "output_type": "execute_result"
    },
    {
     "data": {
      "image/png": "[encoded data removed]",
      "text/plain": [
       "<Figure size 640x480 with 1 Axes>"
      ]
     },
     "metadata": {},
     "output_type": "display_data"
    }
   ],
   "source": [
    "sns.boxplot(data=houseDatCopy['Bedrooms'])"
   ]
  },
  {
   "cell_type": "code",
   "execution_count": 16,
   "id": "770557d5",
   "metadata": {},
   "outputs": [
    {
     "data": {
      "text/plain": [
       "count    21613.000000\n",
       "mean         3.372091\n",
       "std          0.947533\n",
       "min          0.000000\n",
       "25%          3.000000\n",
       "50%          3.000000\n",
       "75%          4.000000\n",
       "max         33.000000\n",
       "Name: Bedrooms, dtype: float64"
      ]
     },
     "execution_count": 16,
     "metadata": {},
     "output_type": "execute_result"
    }
   ],
   "source": [
    "houseDatCopy['Bedrooms'].describe()"
   ]
  },
  {
   "cell_type": "code",
   "execution_count": 17,
   "id": "05ec590f",
   "metadata": {},
   "outputs": [
    {
     "data": {
      "text/plain": [
       "<AxesSubplot: >"
      ]
     },
     "execution_count": 17,
     "metadata": {},
     "output_type": "execute_result"
    },
    {
     "data": {
      "image/png": "[encoded data removed]",
      "text/plain": [
       "<Figure size 640x480 with 1 Axes>"
      ]
     },
     "metadata": {},
     "output_type": "display_data"
    }
   ],
   "source": [
    "sns.boxplot(data=houseDatCopy['Bathrooms'])"
   ]
  },
  {
   "cell_type": "code",
   "execution_count": 18,
   "id": "1f79f436",
   "metadata": {
    "scrolled": true
   },
   "outputs": [
    {
     "data": {
      "text/plain": [
       "count    21611.000000\n",
       "mean         2.115173\n",
       "std          0.772019\n",
       "min          0.000000\n",
       "25%          1.750000\n",
       "50%          2.250000\n",
       "75%          2.500000\n",
       "max         10.000000\n",
       "Name: Bathrooms, dtype: float64"
      ]
     },
     "execution_count": 18,
     "metadata": {},
     "output_type": "execute_result"
    }
   ],
   "source": [
    "houseDatCopy['Bathrooms'].describe()"
   ]
  },
  {
   "cell_type": "code",
   "execution_count": 19,
   "id": "a4732e49",
   "metadata": {},
   "outputs": [
    {
     "data": {
      "text/plain": [
       "<AxesSubplot: >"
      ]
     },
     "execution_count": 19,
     "metadata": {},
     "output_type": "execute_result"
    },
    {
     "data": {
      "image/png": "[encoded data removed]",
      "text/plain": [
       "<Figure size 640x480 with 1 Axes>"
      ]
     },
     "metadata": {},
     "output_type": "display_data"
    }
   ],
   "source": [
    "sns.boxplot(data=houseDatCopy['SQFT living'])"
   ]
  },
  {
   "cell_type": "code",
   "execution_count": 20,
   "id": "f6fb438b",
   "metadata": {},
   "outputs": [
    {
     "data": {
      "text/plain": [
       "count    21613.000000\n",
       "mean      2079.899736\n",
       "std        918.440897\n",
       "min        290.000000\n",
       "25%       1427.000000\n",
       "50%       1910.000000\n",
       "75%       2550.000000\n",
       "max      13540.000000\n",
       "Name: SQFT living, dtype: float64"
      ]
     },
     "execution_count": 20,
     "metadata": {},
     "output_type": "execute_result"
    }
   ],
   "source": [
    "houseDatCopy['SQFT living'].describe()"
   ]
  },
  {
   "cell_type": "code",
   "execution_count": 21,
   "id": "c76d5cb0",
   "metadata": {},
   "outputs": [
    {
     "data": {
      "text/plain": [
       "<AxesSubplot: >"
      ]
     },
     "execution_count": 21,
     "metadata": {},
     "output_type": "execute_result"
    },
    {
     "data": {
      "image/png": "[encoded data removed]",
      "text/plain": [
       "<Figure size 640x480 with 1 Axes>"
      ]
     },
     "metadata": {},
     "output_type": "display_data"
    }
   ],
   "source": [
    "sns.boxplot(data=houseDatCopy['SQFT lot'])"
   ]
  },
  {
   "cell_type": "code",
   "execution_count": 22,
   "id": "45de1844",
   "metadata": {},
   "outputs": [
    {
     "data": {
      "text/plain": [
       "count    2.161100e+04\n",
       "mean     1.510388e+04\n",
       "std      4.141929e+04\n",
       "min      5.200000e+02\n",
       "25%      5.040000e+03\n",
       "50%      7.618000e+03\n",
       "75%      1.068750e+04\n",
       "max      1.651359e+06\n",
       "Name: SQFT lot, dtype: float64"
      ]
     },
     "execution_count": 22,
     "metadata": {},
     "output_type": "execute_result"
    }
   ],
   "source": [
    "houseDatCopy['SQFT lot'].describe()"
   ]
  },
  {
   "cell_type": "code",
   "execution_count": 23,
   "id": "27154434",
   "metadata": {},
   "outputs": [
    {
     "data": {
      "text/plain": [
       "0        1180\n",
       "1        2570\n",
       "2         770\n",
       "3        1960\n",
       "4        1680\n",
       "         ... \n",
       "21608    1530\n",
       "21609    2310\n",
       "21610    1020\n",
       "21611    1600\n",
       "21612    1020\n",
       "Name: SQFT living, Length: 21613, dtype: int64"
      ]
     },
     "execution_count": 23,
     "metadata": {},
     "output_type": "execute_result"
    }
   ],
   "source": [
    "houseDatCopy['SQFT living']"
   ]
  },
  {
   "cell_type": "code",
   "execution_count": 24,
   "id": "270af2d7",
   "metadata": {},
   "outputs": [
    {
     "data": {
      "text/plain": [
       "<AxesSubplot: >"
      ]
     },
     "execution_count": 24,
     "metadata": {},
     "output_type": "execute_result"
    },
    {
     "data": {
      "image/png": "[encoded data removed]",
      "text/plain": [
       "<Figure size 640x480 with 1 Axes>"
      ]
     },
     "metadata": {},
     "output_type": "display_data"
    }
   ],
   "source": [
    "sns.boxplot(data=houseDatCopy['Floors'])"
   ]
  },
  {
   "cell_type": "code",
   "execution_count": 25,
   "id": "c5ab4b2d",
   "metadata": {},
   "outputs": [
    {
     "data": {
      "text/plain": [
       "<AxesSubplot: >"
      ]
     },
     "execution_count": 25,
     "metadata": {},
     "output_type": "execute_result"
    },
    {
     "data": {
      "image/png": "[encoded data removed]",
      "text/plain": [
       "<Figure size 640x480 with 1 Axes>"
      ]
     },
     "metadata": {},
     "output_type": "display_data"
    }
   ],
   "source": [
    "sns.boxplot(data=houseDatCopy['Grade'])"
   ]
  },
  {
   "cell_type": "code",
   "execution_count": 26,
   "id": "24cef4d3",
   "metadata": {},
   "outputs": [
    {
     "data": {
      "text/plain": [
       "count    21611.000000\n",
       "mean         7.656795\n",
       "std          1.175475\n",
       "min          1.000000\n",
       "25%          7.000000\n",
       "50%          7.000000\n",
       "75%          8.000000\n",
       "max         13.000000\n",
       "Name: Grade, dtype: float64"
      ]
     },
     "execution_count": 26,
     "metadata": {},
     "output_type": "execute_result"
    }
   ],
   "source": [
    "houseDatCopy['Grade'].describe()"
   ]
  },
  {
   "cell_type": "code",
   "execution_count": 27,
   "id": "3e711b80",
   "metadata": {},
   "outputs": [
    {
     "data": {
      "text/plain": [
       "<AxesSubplot: >"
      ]
     },
     "execution_count": 27,
     "metadata": {},
     "output_type": "execute_result"
    },
    {
     "data": {
      "image/png": "[encoded data removed]",
      "text/plain": [
       "<Figure size 640x480 with 1 Axes>"
      ]
     },
     "metadata": {},
     "output_type": "display_data"
    }
   ],
   "source": [
    "sns.boxplot(data=houseDatCopy['SQFT above'])"
   ]
  },
  {
   "cell_type": "code",
   "execution_count": 28,
   "id": "5fc9b850",
   "metadata": {},
   "outputs": [
    {
     "data": {
      "text/plain": [
       "count    21612.000000\n",
       "mean      1788.861281\n",
       "std        831.369379\n",
       "min        290.000000\n",
       "25%       1190.000000\n",
       "50%       1560.000000\n",
       "75%       2210.000000\n",
       "max      12542.000000\n",
       "Name: SQFT above, dtype: float64"
      ]
     },
     "execution_count": 28,
     "metadata": {},
     "output_type": "execute_result"
    }
   ],
   "source": [
    "houseDatCopy['SQFT above'].describe()"
   ]
  },
  {
   "cell_type": "code",
   "execution_count": 29,
   "id": "366a198f",
   "metadata": {},
   "outputs": [
    {
     "data": {
      "text/plain": [
       "<AxesSubplot: >"
      ]
     },
     "execution_count": 29,
     "metadata": {},
     "output_type": "execute_result"
    },
    {
     "data": {
      "image/png": "[encoded data removed]",
      "text/plain": [
       "<Figure size 640x480 with 1 Axes>"
      ]
     },
     "metadata": {},
     "output_type": "display_data"
    }
   ],
   "source": [
    "sns.boxplot(data=houseDatCopy['SQFT basement'])"
   ]
  },
  {
   "cell_type": "code",
   "execution_count": 30,
   "id": "451ea6f4",
   "metadata": {},
   "outputs": [
    {
     "data": {
      "text/plain": [
       "count    21613.000000\n",
       "mean       291.509045\n",
       "std        442.575043\n",
       "min          0.000000\n",
       "25%          0.000000\n",
       "50%          0.000000\n",
       "75%        560.000000\n",
       "max       4820.000000\n",
       "Name: SQFT basement, dtype: float64"
      ]
     },
     "execution_count": 30,
     "metadata": {},
     "output_type": "execute_result"
    }
   ],
   "source": [
    "houseDatCopy['SQFT basement'].describe()"
   ]
  },
  {
   "cell_type": "code",
   "execution_count": 31,
   "id": "1dde5465",
   "metadata": {},
   "outputs": [
    {
     "data": {
      "text/plain": [
       "<AxesSubplot: >"
      ]
     },
     "execution_count": 31,
     "metadata": {},
     "output_type": "execute_result"
    },
    {
     "data": {
      "image/png": "[encoded data removed]",
      "text/plain": [
       "<Figure size 640x480 with 1 Axes>"
      ]
     },
     "metadata": {},
     "output_type": "display_data"
    }
   ],
   "source": [
    "sns.boxplot(data=houseDatCopy['Year Built'])"
   ]
  },
  {
   "cell_type": "code",
   "execution_count": 32,
   "id": "60ce9748",
   "metadata": {},
   "outputs": [
    {
     "data": {
      "text/plain": [
       "<AxesSubplot: >"
      ]
     },
     "execution_count": 32,
     "metadata": {},
     "output_type": "execute_result"
    },
    {
     "data": {
      "image/png": "[encoded data removed]",
      "text/plain": [
       "<Figure size 640x480 with 1 Axes>"
      ]
     },
     "metadata": {},
     "output_type": "display_data"
    }
   ],
   "source": [
    "sns.boxplot(data=houseDatCopy['Year Renovated'])"
   ]
  },
  {
   "cell_type": "markdown",
   "id": "b662e1d4",
   "metadata": {},
   "source": [
    "Q: Which variables/columns have outliers?"
   ]
  },
  {
   "cell_type": "code",
   "execution_count": 33,
   "id": "73e4b5d3",
   "metadata": {},
   "outputs": [
    {
     "data": {
      "text/plain": [
       "<AxesSubplot: >"
      ]
     },
     "execution_count": 33,
     "metadata": {},
     "output_type": "execute_result"
    },
    {
     "data": {
      "image/png": "[encoded data removed]",
      "text/plain": [
       "<Figure size 640x480 with 1 Axes>"
      ]
     },
     "metadata": {},
     "output_type": "display_data"
    }
   ],
   "source": [
    "sns.boxplot(data=houseDatCopy['SQFT living 15'])"
   ]
  },
  {
   "cell_type": "code",
   "execution_count": null,
   "id": "e7a02f7a",
   "metadata": {},
   "outputs": [],
   "source": []
  },
  {
   "cell_type": "code",
   "execution_count": null,
   "id": "bc25f597",
   "metadata": {},
   "outputs": [],
   "source": []
  },
  {
   "cell_type": "code",
   "execution_count": null,
   "id": "74ef78ef",
   "metadata": {},
   "outputs": [],
   "source": []
  },
  {
   "cell_type": "markdown",
   "id": "805b94b3",
   "metadata": {},
   "source": [
    "A: ##### TO DO #####\n",
    "- Bedrooms  \n",
    "- Bathrooms\n",
    "- Sqft living\n",
    "- Sqft lot\n",
    "- Grade\n",
    "- SQFT above\n",
    "- Sqft basement\n",
    "- Year Built\n",
    "- Year Renovated\n",
    "- SQFT Living 15\n",
    "- SQFT lot 15\n",
    "- Outliers in Price will need to be checked after cleaning the column and coverting it to a float"
   ]
  },
  {
   "cell_type": "markdown",
   "id": "fa8404ee",
   "metadata": {},
   "source": [
    "### Step 5: Write Data Cleaning Plan "
   ]
  },
  {
   "cell_type": "code",
   "execution_count": 34,
   "id": "b8363572",
   "metadata": {},
   "outputs": [
    {
     "name": "stdout",
     "output_type": "stream",
     "text": [
      "<class 'pandas.core.frame.DataFrame'>\n",
      "RangeIndex: 21613 entries, 0 to 21612\n",
      "Data columns (total 20 columns):\n",
      " #   Column           Non-Null Count  Dtype  \n",
      "---  ------           --------------  -----  \n",
      " 0   Unnamed: 0       21613 non-null  int64  \n",
      " 1   ID               21613 non-null  int64  \n",
      " 2   Bedrooms         21613 non-null  int64  \n",
      " 3   Bathrooms        21611 non-null  float64\n",
      " 4   SQFT living      21613 non-null  int64  \n",
      " 5   SQFT lot         21611 non-null  float64\n",
      " 6   Floors           21613 non-null  float64\n",
      " 7   Waterfront?      21605 non-null  object \n",
      " 8   View             21611 non-null  object \n",
      " 9   House Condition  21607 non-null  object \n",
      " 10  Grade            21611 non-null  float64\n",
      " 11  SQFT above       21612 non-null  float64\n",
      " 12  SQFT basement    21613 non-null  int64  \n",
      " 13  Year Built       21612 non-null  float64\n",
      " 14  Year Renovated   21276 non-null  float64\n",
      " 15  Zipcode          21610 non-null  float64\n",
      " 16  Lat              21612 non-null  float64\n",
      " 17  Long             21612 non-null  float64\n",
      " 18  SQFT living 15   21613 non-null  int64  \n",
      " 19  SQFT lot 15      21613 non-null  int64  \n",
      "dtypes: float64(10), int64(7), object(3)\n",
      "memory usage: 3.3+ MB\n"
     ]
    }
   ],
   "source": [
    "######################### TO DO ###################################\n",
    "\n",
    "####### FOLLOW PROJECT DIRECTIONS TO COMPLETE THIS STEP ###########\n",
    "houseDatCopy.info()"
   ]
  },
  {
   "cell_type": "markdown",
   "id": "ffaead81",
   "metadata": {},
   "source": [
    "#### Data Cleaning Plan:\n",
    "\n",
    "####### TO DO #######\n",
    "outlier \n",
    "bedrooms has a bunch of outliers\n",
    "bathrooms has a bunch of outliers\n",
    "SQFT living      \n",
    " SQFT lot       \n",
    " Waterfront?      \n",
    " House Condition  \n",
    "Grade            \n",
    "SQFT above       \n",
    "SQFT basement     \n",
    "Year Built       \n",
    "Year Renovated   \n",
    "SQFT Living 15\n",
    "SQFT lot 15    \n",
    "fix NAN values\n",
    "DATA\n",
    "Bathrooms            2\n",
    "SQFT lot             2\n",
    "Waterfront?          8\n",
    "View                 2\n",
    "House Condition      6\n",
    "Grade                2\n",
    "SQFT above           1\n",
    "Year Built           1\n",
    "Year Renovated     337\n",
    "drop this ^\n",
    "Zipcode              3\n",
    "Lat                  1\n",
    "Long                 1\n",
    "SALES \n",
    "Price         4"
   ]
  },
  {
   "cell_type": "markdown",
   "id": "2b013db9",
   "metadata": {},
   "source": [
    "## Part 3: Execute Data Cleaning Plan Using DEFINE / CLEAN / TEST Approach"
   ]
  },
  {
   "cell_type": "markdown",
   "id": "e3c2577a",
   "metadata": {},
   "source": [
    "### Step 1: Understand DEFINE / CLEAN / TEST Approach"
   ]
  },
  {
   "cell_type": "markdown",
   "id": "c83b7b6e",
   "metadata": {},
   "source": [
    "Refer to project instructions for an explanation of this step. You can copy and past the template in the cell below to use in each step of Part 3 as you are treating the issues you found in the data. "
   ]
  },
  {
   "cell_type": "code",
   "execution_count": 19,
   "id": "dde1bdbb",
   "metadata": {},
   "outputs": [
    {
     "data": {
      "text/html": [
       "<div>\n",
       "<style scoped>\n",
       "    .dataframe tbody tr th:only-of-type {\n",
       "        vertical-align: middle;\n",
       "    }\n",
       "\n",
       "    .dataframe tbody tr th {\n",
       "        vertical-align: top;\n",
       "    }\n",
       "\n",
       "    .dataframe thead th {\n",
       "        text-align: right;\n",
       "    }\n",
       "</style>\n",
       "<table border=\"1\" class=\"dataframe\">\n",
       "  <thead>\n",
       "    <tr style=\"text-align: right;\">\n",
       "      <th></th>\n",
       "      <th>id</th>\n",
       "      <th>date</th>\n",
       "      <th>price</th>\n",
       "    </tr>\n",
       "  </thead>\n",
       "  <tbody>\n",
       "    <tr>\n",
       "      <th>0</th>\n",
       "      <td>7129300520</td>\n",
       "      <td>20141013T000000</td>\n",
       "      <td>$221,900.00</td>\n",
       "    </tr>\n",
       "    <tr>\n",
       "      <th>1</th>\n",
       "      <td>6414100192</td>\n",
       "      <td>20141209T000000</td>\n",
       "      <td>$538,000.00</td>\n",
       "    </tr>\n",
       "    <tr>\n",
       "      <th>2</th>\n",
       "      <td>5631500400</td>\n",
       "      <td>20150225T000000</td>\n",
       "      <td>$180,000.00</td>\n",
       "    </tr>\n",
       "    <tr>\n",
       "      <th>3</th>\n",
       "      <td>2487200875</td>\n",
       "      <td>20141209T000000</td>\n",
       "      <td>$604,000.00</td>\n",
       "    </tr>\n",
       "    <tr>\n",
       "      <th>4</th>\n",
       "      <td>1954400510</td>\n",
       "      <td>20150218T000000</td>\n",
       "      <td>$510,000.00</td>\n",
       "    </tr>\n",
       "  </tbody>\n",
       "</table>\n",
       "</div>"
      ],
      "text/plain": [
       "           id             date        price\n",
       "0  7129300520  20141013T000000  $221,900.00\n",
       "1  6414100192  20141209T000000  $538,000.00\n",
       "2  5631500400  20150225T000000  $180,000.00\n",
       "3  2487200875  20141209T000000  $604,000.00\n",
       "4  1954400510  20150218T000000  $510,000.00"
      ]
     },
     "execution_count": 19,
     "metadata": {},
     "output_type": "execute_result"
    }
   ],
   "source": [
    "### DEFINE ###\n",
    "#droping unnamed from house data and sales\n",
    "### CLEAN ### \n",
    "#houseDatCopy.drop(columns= ['unnamed: 0'],inplace=True)\n",
    "houseSalesCopy.drop(columns= ['unnamed: 0'],inplace=True)\n",
    "\n",
    "### TEST ###\n",
    "#houseDatCopy.head()\n",
    "houseSalesCopy.head()\n",
    "\n"
   ]
  },
  {
   "cell_type": "markdown",
   "id": "659b978b",
   "metadata": {},
   "source": [
    "### Step 2: Treat Names / Casing / Spelling Issues"
   ]
  },
  {
   "cell_type": "code",
   "execution_count": 36,
   "id": "82b0d7c7",
   "metadata": {},
   "outputs": [],
   "source": [
    "######################### TO DO ###################################\n",
    "\n",
    "####### FOLLOW PROJECT DIRECTIONS TO COMPLETE THIS STEP ###########"
   ]
  },
  {
   "cell_type": "code",
   "execution_count": 20,
   "id": "96693e11",
   "metadata": {},
   "outputs": [
    {
     "data": {
      "text/html": [
       "<div>\n",
       "<style scoped>\n",
       "    .dataframe tbody tr th:only-of-type {\n",
       "        vertical-align: middle;\n",
       "    }\n",
       "\n",
       "    .dataframe tbody tr th {\n",
       "        vertical-align: top;\n",
       "    }\n",
       "\n",
       "    .dataframe thead th {\n",
       "        text-align: right;\n",
       "    }\n",
       "</style>\n",
       "<table border=\"1\" class=\"dataframe\">\n",
       "  <thead>\n",
       "    <tr style=\"text-align: right;\">\n",
       "      <th></th>\n",
       "      <th>id</th>\n",
       "      <th>bedrooms</th>\n",
       "      <th>bathrooms</th>\n",
       "      <th>sqft living</th>\n",
       "      <th>sqft lot</th>\n",
       "      <th>floors</th>\n",
       "      <th>waterfront?</th>\n",
       "      <th>view</th>\n",
       "      <th>house condition</th>\n",
       "      <th>grade</th>\n",
       "      <th>sqft above</th>\n",
       "      <th>sqft basement</th>\n",
       "      <th>year built</th>\n",
       "      <th>year renovated</th>\n",
       "      <th>zipcode</th>\n",
       "      <th>lat</th>\n",
       "      <th>long</th>\n",
       "      <th>sqft living 15</th>\n",
       "      <th>sqft lot 15</th>\n",
       "    </tr>\n",
       "  </thead>\n",
       "  <tbody>\n",
       "    <tr>\n",
       "      <th>0</th>\n",
       "      <td>7129300520</td>\n",
       "      <td>3</td>\n",
       "      <td>1.00</td>\n",
       "      <td>1180</td>\n",
       "      <td>5650.0</td>\n",
       "      <td>1.0</td>\n",
       "      <td>No</td>\n",
       "      <td>Very Poor</td>\n",
       "      <td>OK Condition</td>\n",
       "      <td>7.0</td>\n",
       "      <td>1180.0</td>\n",
       "      <td>0</td>\n",
       "      <td>1955.0</td>\n",
       "      <td>NaN</td>\n",
       "      <td>98178.0</td>\n",
       "      <td>47.5112</td>\n",
       "      <td>-122.257</td>\n",
       "      <td>1340</td>\n",
       "      <td>5650</td>\n",
       "    </tr>\n",
       "    <tr>\n",
       "      <th>1</th>\n",
       "      <td>6414100192</td>\n",
       "      <td>3</td>\n",
       "      <td>2.25</td>\n",
       "      <td>2570</td>\n",
       "      <td>7242.0</td>\n",
       "      <td>2.0</td>\n",
       "      <td>No</td>\n",
       "      <td>Very Poor</td>\n",
       "      <td>OK Condition</td>\n",
       "      <td>7.0</td>\n",
       "      <td>2170.0</td>\n",
       "      <td>400</td>\n",
       "      <td>1951.0</td>\n",
       "      <td>1991.0</td>\n",
       "      <td>98125.0</td>\n",
       "      <td>47.7210</td>\n",
       "      <td>-122.319</td>\n",
       "      <td>1690</td>\n",
       "      <td>7639</td>\n",
       "    </tr>\n",
       "    <tr>\n",
       "      <th>2</th>\n",
       "      <td>5631500400</td>\n",
       "      <td>2</td>\n",
       "      <td>1.00</td>\n",
       "      <td>770</td>\n",
       "      <td>10000.0</td>\n",
       "      <td>1.0</td>\n",
       "      <td>No</td>\n",
       "      <td>Very Poor</td>\n",
       "      <td>OK Condition</td>\n",
       "      <td>6.0</td>\n",
       "      <td>770.0</td>\n",
       "      <td>0</td>\n",
       "      <td>1933.0</td>\n",
       "      <td>NaN</td>\n",
       "      <td>98028.0</td>\n",
       "      <td>47.7379</td>\n",
       "      <td>-122.233</td>\n",
       "      <td>2720</td>\n",
       "      <td>8062</td>\n",
       "    </tr>\n",
       "    <tr>\n",
       "      <th>3</th>\n",
       "      <td>2487200875</td>\n",
       "      <td>4</td>\n",
       "      <td>3.00</td>\n",
       "      <td>1960</td>\n",
       "      <td>5000.0</td>\n",
       "      <td>1.0</td>\n",
       "      <td>No</td>\n",
       "      <td>Very Poor</td>\n",
       "      <td>Great Condition</td>\n",
       "      <td>7.0</td>\n",
       "      <td>1050.0</td>\n",
       "      <td>910</td>\n",
       "      <td>1965.0</td>\n",
       "      <td>NaN</td>\n",
       "      <td>98136.0</td>\n",
       "      <td>47.5208</td>\n",
       "      <td>-122.393</td>\n",
       "      <td>1360</td>\n",
       "      <td>5000</td>\n",
       "    </tr>\n",
       "    <tr>\n",
       "      <th>4</th>\n",
       "      <td>1954400510</td>\n",
       "      <td>3</td>\n",
       "      <td>2.00</td>\n",
       "      <td>1680</td>\n",
       "      <td>8080.0</td>\n",
       "      <td>1.0</td>\n",
       "      <td>No</td>\n",
       "      <td>Very Poor</td>\n",
       "      <td>OK Condition</td>\n",
       "      <td>8.0</td>\n",
       "      <td>1680.0</td>\n",
       "      <td>0</td>\n",
       "      <td>1987.0</td>\n",
       "      <td>NaN</td>\n",
       "      <td>98074.0</td>\n",
       "      <td>47.6168</td>\n",
       "      <td>-122.045</td>\n",
       "      <td>1800</td>\n",
       "      <td>7503</td>\n",
       "    </tr>\n",
       "  </tbody>\n",
       "</table>\n",
       "</div>"
      ],
      "text/plain": [
       "           id  bedrooms  bathrooms  sqft living  sqft lot  floors waterfront?  \\\n",
       "0  7129300520         3       1.00         1180    5650.0     1.0          No   \n",
       "1  6414100192         3       2.25         2570    7242.0     2.0          No   \n",
       "2  5631500400         2       1.00          770   10000.0     1.0          No   \n",
       "3  2487200875         4       3.00         1960    5000.0     1.0          No   \n",
       "4  1954400510         3       2.00         1680    8080.0     1.0          No   \n",
       "\n",
       "        view  house condition  grade  sqft above  sqft basement  year built  \\\n",
       "0  Very Poor     OK Condition    7.0      1180.0              0      1955.0   \n",
       "1  Very Poor     OK Condition    7.0      2170.0            400      1951.0   \n",
       "2  Very Poor     OK Condition    6.0       770.0              0      1933.0   \n",
       "3  Very Poor  Great Condition    7.0      1050.0            910      1965.0   \n",
       "4  Very Poor     OK Condition    8.0      1680.0              0      1987.0   \n",
       "\n",
       "   year renovated  zipcode      lat     long  sqft living 15  sqft lot 15  \n",
       "0             NaN  98178.0  47.5112 -122.257            1340         5650  \n",
       "1          1991.0  98125.0  47.7210 -122.319            1690         7639  \n",
       "2             NaN  98028.0  47.7379 -122.233            2720         8062  \n",
       "3             NaN  98136.0  47.5208 -122.393            1360         5000  \n",
       "4             NaN  98074.0  47.6168 -122.045            1800         7503  "
      ]
     },
     "execution_count": 20,
     "metadata": {},
     "output_type": "execute_result"
    }
   ],
   "source": [
    "### DEFINE ###\n",
    "#make column names lowervase\n",
    "\n",
    "### CLEAN ### \n",
    "#houseDatCopy.columns = houseDatCopy.columns.str.lower()\n",
    "\n",
    "### TEST ###\n",
    "houseDatCopy.head()\n"
   ]
  },
  {
   "cell_type": "code",
   "execution_count": 21,
   "id": "ff6a9646",
   "metadata": {},
   "outputs": [
    {
     "data": {
      "text/html": [
       "<div>\n",
       "<style scoped>\n",
       "    .dataframe tbody tr th:only-of-type {\n",
       "        vertical-align: middle;\n",
       "    }\n",
       "\n",
       "    .dataframe tbody tr th {\n",
       "        vertical-align: top;\n",
       "    }\n",
       "\n",
       "    .dataframe thead th {\n",
       "        text-align: right;\n",
       "    }\n",
       "</style>\n",
       "<table border=\"1\" class=\"dataframe\">\n",
       "  <thead>\n",
       "    <tr style=\"text-align: right;\">\n",
       "      <th></th>\n",
       "      <th>id</th>\n",
       "      <th>date</th>\n",
       "      <th>price</th>\n",
       "    </tr>\n",
       "  </thead>\n",
       "  <tbody>\n",
       "    <tr>\n",
       "      <th>0</th>\n",
       "      <td>7129300520</td>\n",
       "      <td>20141013T000000</td>\n",
       "      <td>$221,900.00</td>\n",
       "    </tr>\n",
       "    <tr>\n",
       "      <th>1</th>\n",
       "      <td>6414100192</td>\n",
       "      <td>20141209T000000</td>\n",
       "      <td>$538,000.00</td>\n",
       "    </tr>\n",
       "    <tr>\n",
       "      <th>2</th>\n",
       "      <td>5631500400</td>\n",
       "      <td>20150225T000000</td>\n",
       "      <td>$180,000.00</td>\n",
       "    </tr>\n",
       "    <tr>\n",
       "      <th>3</th>\n",
       "      <td>2487200875</td>\n",
       "      <td>20141209T000000</td>\n",
       "      <td>$604,000.00</td>\n",
       "    </tr>\n",
       "    <tr>\n",
       "      <th>4</th>\n",
       "      <td>1954400510</td>\n",
       "      <td>20150218T000000</td>\n",
       "      <td>$510,000.00</td>\n",
       "    </tr>\n",
       "  </tbody>\n",
       "</table>\n",
       "</div>"
      ],
      "text/plain": [
       "           id             date        price\n",
       "0  7129300520  20141013T000000  $221,900.00\n",
       "1  6414100192  20141209T000000  $538,000.00\n",
       "2  5631500400  20150225T000000  $180,000.00\n",
       "3  2487200875  20141209T000000  $604,000.00\n",
       "4  1954400510  20150218T000000  $510,000.00"
      ]
     },
     "execution_count": 21,
     "metadata": {},
     "output_type": "execute_result"
    }
   ],
   "source": [
    "### DEFINE ###\n",
    "#make column names lowervase\n",
    "\n",
    "### CLEAN ### \n",
    "#houseSalesCopy.columns = houseSalesCopy.columns.str.lower()\n",
    "\n",
    "### TEST ###\n",
    "houseSalesCopy.head()\n"
   ]
  },
  {
   "cell_type": "code",
   "execution_count": 23,
   "id": "6c226de6",
   "metadata": {},
   "outputs": [
    {
     "data": {
      "text/html": [
       "<div>\n",
       "<style scoped>\n",
       "    .dataframe tbody tr th:only-of-type {\n",
       "        vertical-align: middle;\n",
       "    }\n",
       "\n",
       "    .dataframe tbody tr th {\n",
       "        vertical-align: top;\n",
       "    }\n",
       "\n",
       "    .dataframe thead th {\n",
       "        text-align: right;\n",
       "    }\n",
       "</style>\n",
       "<table border=\"1\" class=\"dataframe\">\n",
       "  <thead>\n",
       "    <tr style=\"text-align: right;\">\n",
       "      <th></th>\n",
       "      <th>id</th>\n",
       "      <th>bedrooms</th>\n",
       "      <th>bathrooms</th>\n",
       "      <th>sqft_living</th>\n",
       "      <th>sqft_lot</th>\n",
       "      <th>floors</th>\n",
       "      <th>waterfront</th>\n",
       "      <th>view</th>\n",
       "      <th>house_condition</th>\n",
       "      <th>grade</th>\n",
       "      <th>sqft_above</th>\n",
       "      <th>sqft_basement</th>\n",
       "      <th>year_built</th>\n",
       "      <th>year_renovated</th>\n",
       "      <th>zipcode</th>\n",
       "      <th>lat</th>\n",
       "      <th>long</th>\n",
       "      <th>sqft_living_15</th>\n",
       "      <th>sqft_lot_15</th>\n",
       "    </tr>\n",
       "  </thead>\n",
       "  <tbody>\n",
       "    <tr>\n",
       "      <th>0</th>\n",
       "      <td>7129300520</td>\n",
       "      <td>3</td>\n",
       "      <td>1.00</td>\n",
       "      <td>1180</td>\n",
       "      <td>5650.0</td>\n",
       "      <td>1.0</td>\n",
       "      <td>No</td>\n",
       "      <td>Very Poor</td>\n",
       "      <td>OK Condition</td>\n",
       "      <td>7.0</td>\n",
       "      <td>1180.0</td>\n",
       "      <td>0</td>\n",
       "      <td>1955.0</td>\n",
       "      <td>NaN</td>\n",
       "      <td>98178.0</td>\n",
       "      <td>47.5112</td>\n",
       "      <td>-122.257</td>\n",
       "      <td>1340</td>\n",
       "      <td>5650</td>\n",
       "    </tr>\n",
       "    <tr>\n",
       "      <th>1</th>\n",
       "      <td>6414100192</td>\n",
       "      <td>3</td>\n",
       "      <td>2.25</td>\n",
       "      <td>2570</td>\n",
       "      <td>7242.0</td>\n",
       "      <td>2.0</td>\n",
       "      <td>No</td>\n",
       "      <td>Very Poor</td>\n",
       "      <td>OK Condition</td>\n",
       "      <td>7.0</td>\n",
       "      <td>2170.0</td>\n",
       "      <td>400</td>\n",
       "      <td>1951.0</td>\n",
       "      <td>1991.0</td>\n",
       "      <td>98125.0</td>\n",
       "      <td>47.7210</td>\n",
       "      <td>-122.319</td>\n",
       "      <td>1690</td>\n",
       "      <td>7639</td>\n",
       "    </tr>\n",
       "    <tr>\n",
       "      <th>2</th>\n",
       "      <td>5631500400</td>\n",
       "      <td>2</td>\n",
       "      <td>1.00</td>\n",
       "      <td>770</td>\n",
       "      <td>10000.0</td>\n",
       "      <td>1.0</td>\n",
       "      <td>No</td>\n",
       "      <td>Very Poor</td>\n",
       "      <td>OK Condition</td>\n",
       "      <td>6.0</td>\n",
       "      <td>770.0</td>\n",
       "      <td>0</td>\n",
       "      <td>1933.0</td>\n",
       "      <td>NaN</td>\n",
       "      <td>98028.0</td>\n",
       "      <td>47.7379</td>\n",
       "      <td>-122.233</td>\n",
       "      <td>2720</td>\n",
       "      <td>8062</td>\n",
       "    </tr>\n",
       "    <tr>\n",
       "      <th>3</th>\n",
       "      <td>2487200875</td>\n",
       "      <td>4</td>\n",
       "      <td>3.00</td>\n",
       "      <td>1960</td>\n",
       "      <td>5000.0</td>\n",
       "      <td>1.0</td>\n",
       "      <td>No</td>\n",
       "      <td>Very Poor</td>\n",
       "      <td>Great Condition</td>\n",
       "      <td>7.0</td>\n",
       "      <td>1050.0</td>\n",
       "      <td>910</td>\n",
       "      <td>1965.0</td>\n",
       "      <td>NaN</td>\n",
       "      <td>98136.0</td>\n",
       "      <td>47.5208</td>\n",
       "      <td>-122.393</td>\n",
       "      <td>1360</td>\n",
       "      <td>5000</td>\n",
       "    </tr>\n",
       "    <tr>\n",
       "      <th>4</th>\n",
       "      <td>1954400510</td>\n",
       "      <td>3</td>\n",
       "      <td>2.00</td>\n",
       "      <td>1680</td>\n",
       "      <td>8080.0</td>\n",
       "      <td>1.0</td>\n",
       "      <td>No</td>\n",
       "      <td>Very Poor</td>\n",
       "      <td>OK Condition</td>\n",
       "      <td>8.0</td>\n",
       "      <td>1680.0</td>\n",
       "      <td>0</td>\n",
       "      <td>1987.0</td>\n",
       "      <td>NaN</td>\n",
       "      <td>98074.0</td>\n",
       "      <td>47.6168</td>\n",
       "      <td>-122.045</td>\n",
       "      <td>1800</td>\n",
       "      <td>7503</td>\n",
       "    </tr>\n",
       "  </tbody>\n",
       "</table>\n",
       "</div>"
      ],
      "text/plain": [
       "           id  bedrooms  bathrooms  sqft_living  sqft_lot  floors waterfront  \\\n",
       "0  7129300520         3       1.00         1180    5650.0     1.0         No   \n",
       "1  6414100192         3       2.25         2570    7242.0     2.0         No   \n",
       "2  5631500400         2       1.00          770   10000.0     1.0         No   \n",
       "3  2487200875         4       3.00         1960    5000.0     1.0         No   \n",
       "4  1954400510         3       2.00         1680    8080.0     1.0         No   \n",
       "\n",
       "        view  house_condition  grade  sqft_above  sqft_basement  year_built  \\\n",
       "0  Very Poor     OK Condition    7.0      1180.0              0      1955.0   \n",
       "1  Very Poor     OK Condition    7.0      2170.0            400      1951.0   \n",
       "2  Very Poor     OK Condition    6.0       770.0              0      1933.0   \n",
       "3  Very Poor  Great Condition    7.0      1050.0            910      1965.0   \n",
       "4  Very Poor     OK Condition    8.0      1680.0              0      1987.0   \n",
       "\n",
       "   year_renovated  zipcode      lat     long  sqft_living_15  sqft_lot_15  \n",
       "0             NaN  98178.0  47.5112 -122.257            1340         5650  \n",
       "1          1991.0  98125.0  47.7210 -122.319            1690         7639  \n",
       "2             NaN  98028.0  47.7379 -122.233            2720         8062  \n",
       "3             NaN  98136.0  47.5208 -122.393            1360         5000  \n",
       "4             NaN  98074.0  47.6168 -122.045            1800         7503  "
      ]
     },
     "execution_count": 23,
     "metadata": {},
     "output_type": "execute_result"
    }
   ],
   "source": [
    "### DEFINE ###\n",
    "#removing puncation from colmn names data\n",
    "### CLEAN ### \n",
    "#houseDatCopy.columns= houseDatCopy.columns.str.replace(' ','_')\n",
    "#houseDatCopy.columns= houseDatCopy.columns.str.replace('?','')\n",
    "### TEST ###\n",
    "houseDatCopy.head()\n"
   ]
  },
  {
   "cell_type": "code",
   "execution_count": 25,
   "id": "3350d432",
   "metadata": {
    "scrolled": true
   },
   "outputs": [
    {
     "name": "stdout",
     "output_type": "stream",
     "text": [
      "<class 'pandas.core.frame.DataFrame'>\n",
      "RangeIndex: 21613 entries, 0 to 21612\n",
      "Data columns (total 19 columns):\n",
      " #   Column           Non-Null Count  Dtype  \n",
      "---  ------           --------------  -----  \n",
      " 0   id               21613 non-null  object \n",
      " 1   bedrooms         21613 non-null  int64  \n",
      " 2   bathrooms        21611 non-null  float64\n",
      " 3   sqft_living      21613 non-null  int64  \n",
      " 4   sqft_lot         21611 non-null  float64\n",
      " 5   floors           21613 non-null  float64\n",
      " 6   waterfront       21605 non-null  object \n",
      " 7   view             21611 non-null  object \n",
      " 8   house_condition  21607 non-null  object \n",
      " 9   grade            21611 non-null  float64\n",
      " 10  sqft_above       21612 non-null  float64\n",
      " 11  sqft_basement    21613 non-null  int64  \n",
      " 12  year_built       21612 non-null  float64\n",
      " 13  year_renovated   21276 non-null  float64\n",
      " 14  zipcode          21610 non-null  float64\n",
      " 15  lat              21612 non-null  float64\n",
      " 16  long             21612 non-null  float64\n",
      " 17  sqft_living_15   21613 non-null  int64  \n",
      " 18  sqft_lot_15      21613 non-null  int64  \n",
      "dtypes: float64(10), int64(5), object(4)\n",
      "memory usage: 3.1+ MB\n"
     ]
    }
   ],
   "source": [
    "### DEFINE ###\n",
    "#make id object in data\n",
    "### CLEAN ### \n",
    "#houseDatCopy.id=houseDatCopy.id.astype(str)\n",
    "\n",
    "### TEST ###\n",
    "houseDatCopy.info()\n"
   ]
  },
  {
   "cell_type": "code",
   "execution_count": 27,
   "id": "cb025171",
   "metadata": {
    "scrolled": false
   },
   "outputs": [
    {
     "name": "stdout",
     "output_type": "stream",
     "text": [
      "<class 'pandas.core.frame.DataFrame'>\n",
      "RangeIndex: 21613 entries, 0 to 21612\n",
      "Data columns (total 3 columns):\n",
      " #   Column  Non-Null Count  Dtype \n",
      "---  ------  --------------  ----- \n",
      " 0   id      21613 non-null  object\n",
      " 1   date    21613 non-null  object\n",
      " 2   price   21609 non-null  object\n",
      "dtypes: object(3)\n",
      "memory usage: 506.7+ KB\n"
     ]
    }
   ],
   "source": [
    "### DEFINE ###\n",
    "#make id object in sales\n",
    "### CLEAN ### \n",
    "#houseSalesCopy.id  =houseSalesCopy.id.astype(str)\n",
    "#houseSalesCopy.id\n",
    "### TEST ###\n",
    "houseSalesCopy.info()\n"
   ]
  },
  {
   "cell_type": "code",
   "execution_count": 30,
   "id": "7dc3571a",
   "metadata": {
    "scrolled": false
   },
   "outputs": [
    {
     "name": "stdout",
     "output_type": "stream",
     "text": [
      "<class 'pandas.core.frame.DataFrame'>\n",
      "RangeIndex: 21613 entries, 0 to 21612\n",
      "Data columns (total 3 columns):\n",
      " #   Column  Non-Null Count  Dtype         \n",
      "---  ------  --------------  -----         \n",
      " 0   id      21613 non-null  object        \n",
      " 1   date    21613 non-null  datetime64[ns]\n",
      " 2   price   21609 non-null  object        \n",
      "dtypes: datetime64[ns](1), object(2)\n",
      "memory usage: 506.7+ KB\n"
     ]
    }
   ],
   "source": [
    "### DEFINE ###\n",
    "#make date to datetime in sales\n",
    "### CLEAN ### \n",
    "#houseSalesCopy.date=pd.to_datetime(houseSalesCopy['date'])\n",
    "\n",
    "### TEST ###\n",
    "houseSalesCopy.info()\n"
   ]
  },
  {
   "cell_type": "code",
   "execution_count": 34,
   "id": "02406de1",
   "metadata": {
    "scrolled": false
   },
   "outputs": [
    {
     "data": {
      "text/html": [
       "<div>\n",
       "<style scoped>\n",
       "    .dataframe tbody tr th:only-of-type {\n",
       "        vertical-align: middle;\n",
       "    }\n",
       "\n",
       "    .dataframe tbody tr th {\n",
       "        vertical-align: top;\n",
       "    }\n",
       "\n",
       "    .dataframe thead th {\n",
       "        text-align: right;\n",
       "    }\n",
       "</style>\n",
       "<table border=\"1\" class=\"dataframe\">\n",
       "  <thead>\n",
       "    <tr style=\"text-align: right;\">\n",
       "      <th></th>\n",
       "      <th>id</th>\n",
       "      <th>date</th>\n",
       "      <th>price</th>\n",
       "    </tr>\n",
       "  </thead>\n",
       "  <tbody>\n",
       "    <tr>\n",
       "      <th>0</th>\n",
       "      <td>7129300520</td>\n",
       "      <td>2014-10-13</td>\n",
       "      <td>22190000.0</td>\n",
       "    </tr>\n",
       "    <tr>\n",
       "      <th>1</th>\n",
       "      <td>6414100192</td>\n",
       "      <td>2014-12-09</td>\n",
       "      <td>53800000.0</td>\n",
       "    </tr>\n",
       "    <tr>\n",
       "      <th>2</th>\n",
       "      <td>5631500400</td>\n",
       "      <td>2015-02-25</td>\n",
       "      <td>18000000.0</td>\n",
       "    </tr>\n",
       "    <tr>\n",
       "      <th>3</th>\n",
       "      <td>2487200875</td>\n",
       "      <td>2014-12-09</td>\n",
       "      <td>60400000.0</td>\n",
       "    </tr>\n",
       "    <tr>\n",
       "      <th>4</th>\n",
       "      <td>1954400510</td>\n",
       "      <td>2015-02-18</td>\n",
       "      <td>51000000.0</td>\n",
       "    </tr>\n",
       "  </tbody>\n",
       "</table>\n",
       "</div>"
      ],
      "text/plain": [
       "           id       date       price\n",
       "0  7129300520 2014-10-13  22190000.0\n",
       "1  6414100192 2014-12-09  53800000.0\n",
       "2  5631500400 2015-02-25  18000000.0\n",
       "3  2487200875 2014-12-09  60400000.0\n",
       "4  1954400510 2015-02-18  51000000.0"
      ]
     },
     "execution_count": 34,
     "metadata": {},
     "output_type": "execute_result"
    }
   ],
   "source": [
    "### DEFINE ###\n",
    "#make date to datetime in sales\n",
    "### CLEAN ### \n",
    "#houseSalesCopy.price= houseSalesCopy.price.str.replace('$','').str.replace(',','').str.replace('.','')\n",
    "\n",
    "houseSalesCopy.head()\n"
   ]
  },
  {
   "cell_type": "code",
   "execution_count": 33,
   "id": "283cf149",
   "metadata": {
    "scrolled": false
   },
   "outputs": [],
   "source": [
    "### DEFINE ###\n",
    "#make price to float in sales\n",
    "### CLEAN ### \n",
    "#\n",
    "houseSalesCopy.price= houseSalesCopy.price.astype(float)\n",
    "### TEST ###\n",
    "#houseSalesCopy.info()\n"
   ]
  },
  {
   "cell_type": "code",
   "execution_count": 74,
   "id": "1e48720c",
   "metadata": {},
   "outputs": [
    {
     "name": "stdout",
     "output_type": "stream",
     "text": [
      "<class 'pandas.core.frame.DataFrame'>\n",
      "RangeIndex: 21613 entries, 0 to 21612\n",
      "Data columns (total 19 columns):\n",
      " #   Column           Non-Null Count  Dtype  \n",
      "---  ------           --------------  -----  \n",
      " 0   id               21613 non-null  object \n",
      " 1   bedrooms         21613 non-null  int64  \n",
      " 2   bathrooms        21611 non-null  float64\n",
      " 3   sqft living      21613 non-null  int64  \n",
      " 4   sqft lot         21611 non-null  float64\n",
      " 5   floors           21613 non-null  float64\n",
      " 6   waterfront       21605 non-null  object \n",
      " 7   view             21611 non-null  object \n",
      " 8   house condition  21607 non-null  object \n",
      " 9   grade            21611 non-null  float64\n",
      " 10  sqft above       21612 non-null  float64\n",
      " 11  sqft basement    21613 non-null  int64  \n",
      " 12  year built       21612 non-null  float64\n",
      " 13  year renovated   21276 non-null  float64\n",
      " 14  zipcode          21613 non-null  object \n",
      " 15  lat              21612 non-null  float64\n",
      " 16  long             21612 non-null  float64\n",
      " 17  sqft living 15   21613 non-null  int64  \n",
      " 18  sqft lot 15      21613 non-null  int64  \n",
      "dtypes: float64(9), int64(5), object(5)\n",
      "memory usage: 3.1+ MB\n"
     ]
    }
   ],
   "source": [
    "### DEFINE ###\n",
    "#changing zip to obj\n",
    "### CLEAN ### \n",
    "#houseDatCopy.zipcode=houseDatCopy.zipcode.astype(str)\n",
    "\n",
    "\n",
    "### TEST ###\n",
    "houseDatCopy.info()\n",
    "\n"
   ]
  },
  {
   "cell_type": "markdown",
   "id": "33e34ee1",
   "metadata": {},
   "source": [
    "### Step 3: Treat Missing Values"
   ]
  },
  {
   "cell_type": "code",
   "execution_count": null,
   "id": "86a525d0",
   "metadata": {},
   "outputs": [],
   "source": [
    "######################### TO DO ###################################\n",
    "\n",
    "####### FOLLOW PROJECT DIRECTIONS TO COMPLETE THIS STEP ###########"
   ]
  },
  {
   "cell_type": "code",
   "execution_count": 37,
   "id": "4ea01014",
   "metadata": {},
   "outputs": [
    {
     "data": {
      "text/plain": [
       "0"
      ]
     },
     "execution_count": 37,
     "metadata": {},
     "output_type": "execute_result"
    }
   ],
   "source": [
    "### DEFINE ###\n",
    "\n",
    "#nan in bathoroom\n",
    "#fill in with mean \n",
    "### CLEAN ### \n",
    "\n",
    "#houseDatCopy.bathrooms = houseDatCopy.bathrooms.fillna(houseDatCopy.bathrooms.mean())\n",
    "### TEST ###\n",
    "houseDatCopy.bathrooms.isnull().sum()\n"
   ]
  },
  {
   "cell_type": "code",
   "execution_count": 77,
   "id": "d3df74db",
   "metadata": {},
   "outputs": [],
   "source": [
    "### DEFINE ###\n",
    "\n",
    "#nan in SQFT lot\n",
    "#comes later as we will drop all with na \n",
    "### CLEAN ### \n",
    "\n",
    "\n",
    "### TEST ###\n",
    "\n"
   ]
  },
  {
   "cell_type": "code",
   "execution_count": 44,
   "id": "9ef0b4b0",
   "metadata": {},
   "outputs": [
    {
     "data": {
      "text/html": [
       "<div>\n",
       "<style scoped>\n",
       "    .dataframe tbody tr th:only-of-type {\n",
       "        vertical-align: middle;\n",
       "    }\n",
       "\n",
       "    .dataframe tbody tr th {\n",
       "        vertical-align: top;\n",
       "    }\n",
       "\n",
       "    .dataframe thead th {\n",
       "        text-align: right;\n",
       "    }\n",
       "</style>\n",
       "<table border=\"1\" class=\"dataframe\">\n",
       "  <thead>\n",
       "    <tr style=\"text-align: right;\">\n",
       "      <th></th>\n",
       "      <th>id</th>\n",
       "      <th>bedrooms</th>\n",
       "      <th>bathrooms</th>\n",
       "      <th>sqft_living</th>\n",
       "      <th>sqft_lot</th>\n",
       "      <th>floors</th>\n",
       "      <th>waterfront</th>\n",
       "      <th>view</th>\n",
       "      <th>house_condition</th>\n",
       "      <th>grade</th>\n",
       "      <th>sqft_above</th>\n",
       "      <th>sqft_basement</th>\n",
       "      <th>year_built</th>\n",
       "      <th>year_renovated</th>\n",
       "      <th>zipcode</th>\n",
       "      <th>lat</th>\n",
       "      <th>long</th>\n",
       "      <th>sqft_living_15</th>\n",
       "      <th>sqft_lot_15</th>\n",
       "    </tr>\n",
       "  </thead>\n",
       "  <tbody>\n",
       "    <tr>\n",
       "      <th>0</th>\n",
       "      <td>7129300520</td>\n",
       "      <td>3</td>\n",
       "      <td>1.00</td>\n",
       "      <td>1180</td>\n",
       "      <td>5650.0</td>\n",
       "      <td>1.0</td>\n",
       "      <td>No</td>\n",
       "      <td>Very Poor</td>\n",
       "      <td>OK Condition</td>\n",
       "      <td>7.0</td>\n",
       "      <td>1180.0</td>\n",
       "      <td>0</td>\n",
       "      <td>1955.0</td>\n",
       "      <td>NaN</td>\n",
       "      <td>98178.0</td>\n",
       "      <td>47.5112</td>\n",
       "      <td>-122.257</td>\n",
       "      <td>1340</td>\n",
       "      <td>5650</td>\n",
       "    </tr>\n",
       "    <tr>\n",
       "      <th>1</th>\n",
       "      <td>6414100192</td>\n",
       "      <td>3</td>\n",
       "      <td>2.25</td>\n",
       "      <td>2570</td>\n",
       "      <td>7242.0</td>\n",
       "      <td>2.0</td>\n",
       "      <td>No</td>\n",
       "      <td>Very Poor</td>\n",
       "      <td>OK Condition</td>\n",
       "      <td>7.0</td>\n",
       "      <td>2170.0</td>\n",
       "      <td>400</td>\n",
       "      <td>1951.0</td>\n",
       "      <td>1991.0</td>\n",
       "      <td>98125.0</td>\n",
       "      <td>47.7210</td>\n",
       "      <td>-122.319</td>\n",
       "      <td>1690</td>\n",
       "      <td>7639</td>\n",
       "    </tr>\n",
       "    <tr>\n",
       "      <th>2</th>\n",
       "      <td>5631500400</td>\n",
       "      <td>2</td>\n",
       "      <td>1.00</td>\n",
       "      <td>770</td>\n",
       "      <td>10000.0</td>\n",
       "      <td>1.0</td>\n",
       "      <td>No</td>\n",
       "      <td>Very Poor</td>\n",
       "      <td>OK Condition</td>\n",
       "      <td>6.0</td>\n",
       "      <td>770.0</td>\n",
       "      <td>0</td>\n",
       "      <td>1933.0</td>\n",
       "      <td>NaN</td>\n",
       "      <td>98028.0</td>\n",
       "      <td>47.7379</td>\n",
       "      <td>-122.233</td>\n",
       "      <td>2720</td>\n",
       "      <td>8062</td>\n",
       "    </tr>\n",
       "    <tr>\n",
       "      <th>3</th>\n",
       "      <td>2487200875</td>\n",
       "      <td>4</td>\n",
       "      <td>3.00</td>\n",
       "      <td>1960</td>\n",
       "      <td>5000.0</td>\n",
       "      <td>1.0</td>\n",
       "      <td>No</td>\n",
       "      <td>Very Poor</td>\n",
       "      <td>Great Condition</td>\n",
       "      <td>7.0</td>\n",
       "      <td>1050.0</td>\n",
       "      <td>910</td>\n",
       "      <td>1965.0</td>\n",
       "      <td>NaN</td>\n",
       "      <td>98136.0</td>\n",
       "      <td>47.5208</td>\n",
       "      <td>-122.393</td>\n",
       "      <td>1360</td>\n",
       "      <td>5000</td>\n",
       "    </tr>\n",
       "    <tr>\n",
       "      <th>4</th>\n",
       "      <td>1954400510</td>\n",
       "      <td>3</td>\n",
       "      <td>2.00</td>\n",
       "      <td>1680</td>\n",
       "      <td>8080.0</td>\n",
       "      <td>1.0</td>\n",
       "      <td>No</td>\n",
       "      <td>Very Poor</td>\n",
       "      <td>OK Condition</td>\n",
       "      <td>8.0</td>\n",
       "      <td>1680.0</td>\n",
       "      <td>0</td>\n",
       "      <td>1987.0</td>\n",
       "      <td>NaN</td>\n",
       "      <td>98074.0</td>\n",
       "      <td>47.6168</td>\n",
       "      <td>-122.045</td>\n",
       "      <td>1800</td>\n",
       "      <td>7503</td>\n",
       "    </tr>\n",
       "  </tbody>\n",
       "</table>\n",
       "</div>"
      ],
      "text/plain": [
       "           id  bedrooms  bathrooms  sqft_living  sqft_lot  floors waterfront  \\\n",
       "0  7129300520         3       1.00         1180    5650.0     1.0         No   \n",
       "1  6414100192         3       2.25         2570    7242.0     2.0         No   \n",
       "2  5631500400         2       1.00          770   10000.0     1.0         No   \n",
       "3  2487200875         4       3.00         1960    5000.0     1.0         No   \n",
       "4  1954400510         3       2.00         1680    8080.0     1.0         No   \n",
       "\n",
       "        view  house_condition  grade  sqft_above  sqft_basement  year_built  \\\n",
       "0  Very Poor     OK Condition    7.0      1180.0              0      1955.0   \n",
       "1  Very Poor     OK Condition    7.0      2170.0            400      1951.0   \n",
       "2  Very Poor     OK Condition    6.0       770.0              0      1933.0   \n",
       "3  Very Poor  Great Condition    7.0      1050.0            910      1965.0   \n",
       "4  Very Poor     OK Condition    8.0      1680.0              0      1987.0   \n",
       "\n",
       "   year_renovated  zipcode      lat     long  sqft_living_15  sqft_lot_15  \n",
       "0             NaN  98178.0  47.5112 -122.257            1340         5650  \n",
       "1          1991.0  98125.0  47.7210 -122.319            1690         7639  \n",
       "2             NaN  98028.0  47.7379 -122.233            2720         8062  \n",
       "3             NaN  98136.0  47.5208 -122.393            1360         5000  \n",
       "4             NaN  98074.0  47.6168 -122.045            1800         7503  "
      ]
     },
     "execution_count": 44,
     "metadata": {},
     "output_type": "execute_result"
    }
   ],
   "source": [
    "### DEFINE ###\n",
    "#nan in view\n",
    "#comes later as we will drop all with na \n",
    "\n",
    "### CLEAN ### \n",
    "\n",
    "\n",
    "### TEST ###\n",
    "\n",
    "houseDatCopy.head()"
   ]
  },
  {
   "cell_type": "code",
   "execution_count": 49,
   "id": "a80cb87f",
   "metadata": {},
   "outputs": [
    {
     "data": {
      "text/plain": [
       "0"
      ]
     },
     "execution_count": 49,
     "metadata": {},
     "output_type": "execute_result"
    }
   ],
   "source": [
    "### DEFINE ###\n",
    "\n",
    "#nan in condition\n",
    "#fill with mode \n",
    "### CLEAN ### \n",
    "#modeCondition = houseDatCopy.house_condition.mode()\n",
    "#modeCondition\n",
    "#houseDatCopy['.house_condition'] = houseDatCopy.house_condition.fillna((houseDatCopy.house_condition.mode()[0])\n",
    "#houseDatCopy.house_condition = houseDatCopy.house_condition.fillna(modeCondition[0])\n",
    "\n",
    "houseDatCopy.house_condition.isnull().sum()\n",
    "### TEST ###\n",
    "\n"
   ]
  },
  {
   "cell_type": "code",
   "execution_count": 51,
   "id": "4f86787e",
   "metadata": {},
   "outputs": [
    {
     "data": {
      "text/plain": [
       "0"
      ]
     },
     "execution_count": 51,
     "metadata": {},
     "output_type": "execute_result"
    }
   ],
   "source": [
    "### DEFINE ###\n",
    "#nan in grade\n",
    "#fill with mean\n",
    "### CLEAN ### \n",
    "#houseDatCopy.grade.fillna(houseDatCopy.grade.mean(),inplace=True)\n",
    "\n",
    "### TEST ###\n",
    "houseDatCopy.grade.isnull().sum()\n"
   ]
  },
  {
   "cell_type": "code",
   "execution_count": null,
   "id": "c25a6814",
   "metadata": {},
   "outputs": [],
   "source": [
    "### DEFINE ###\n",
    "#nan in sqft above\n",
    "#comes later as we will drop all with na \n",
    "\n",
    "### CLEAN ### \n",
    "\n",
    "\n",
    "### TEST ###\n",
    "\n"
   ]
  },
  {
   "cell_type": "code",
   "execution_count": null,
   "id": "71d28f4b",
   "metadata": {},
   "outputs": [],
   "source": [
    "### DEFINE ###\n",
    "#nan in year built\n",
    "#comes later as we will drop all with na \n",
    "\n",
    "### CLEAN ### \n",
    "\n",
    "\n",
    "### TEST ###\n",
    "\n"
   ]
  },
  {
   "cell_type": "code",
   "execution_count": 53,
   "id": "1e42d817",
   "metadata": {},
   "outputs": [
    {
     "name": "stdout",
     "output_type": "stream",
     "text": [
      "<class 'pandas.core.frame.DataFrame'>\n",
      "RangeIndex: 21613 entries, 0 to 21612\n",
      "Data columns (total 18 columns):\n",
      " #   Column           Non-Null Count  Dtype  \n",
      "---  ------           --------------  -----  \n",
      " 0   id               21613 non-null  object \n",
      " 1   bedrooms         21613 non-null  int64  \n",
      " 2   bathrooms        21613 non-null  float64\n",
      " 3   sqft_living      21613 non-null  int64  \n",
      " 4   sqft_lot         21611 non-null  float64\n",
      " 5   floors           21613 non-null  float64\n",
      " 6   waterfront       21605 non-null  object \n",
      " 7   view             21611 non-null  object \n",
      " 8   house_condition  21613 non-null  object \n",
      " 9   grade            21613 non-null  float64\n",
      " 10  sqft_above       21612 non-null  float64\n",
      " 11  sqft_basement    21613 non-null  int64  \n",
      " 12  year_built       21612 non-null  float64\n",
      " 13  zipcode          21610 non-null  float64\n",
      " 14  lat              21612 non-null  float64\n",
      " 15  long             21612 non-null  float64\n",
      " 16  sqft_living_15   21613 non-null  int64  \n",
      " 17  sqft_lot_15      21613 non-null  int64  \n",
      "dtypes: float64(9), int64(5), object(4)\n",
      "memory usage: 3.0+ MB\n"
     ]
    }
   ],
   "source": [
    "### DEFINE ###\n",
    "#nan in renovated\n",
    "#337 nan so dropping it \n",
    "### CLEAN ### \n",
    "#houseDatCopy.drop(columns='year_renovated',inplace=True)\n",
    "\n",
    "### TEST ###\n",
    "houseDatCopy.info()\n"
   ]
  },
  {
   "cell_type": "code",
   "execution_count": null,
   "id": "240a388d",
   "metadata": {},
   "outputs": [],
   "source": [
    "### DEFINE ###\n",
    "#nan in zip\n",
    "#comes later as we will drop all with na \n",
    "\n",
    "### CLEAN ### \n",
    "\n",
    "\n",
    "### TEST ###\n",
    "\n"
   ]
  },
  {
   "cell_type": "code",
   "execution_count": null,
   "id": "541e46a8",
   "metadata": {},
   "outputs": [],
   "source": [
    "### DEFINE ###\n",
    "#nan in lat\n",
    "#comes later as we will drop all with na \n",
    "\n",
    "### CLEAN ### \n",
    "\n",
    "\n",
    "### TEST ###\n",
    "\n"
   ]
  },
  {
   "cell_type": "code",
   "execution_count": 54,
   "id": "66c262eb",
   "metadata": {
    "scrolled": true
   },
   "outputs": [],
   "source": [
    "### DEFINE ###\n",
    "#nan in price \n",
    "#deleting all left NAN because they are very specefic stuff that cant be autogenerated \n",
    "\n",
    "### CLEAN ### \n",
    "houseSalesCopy.dropna(axis=0,how='any',inplace=True)\n",
    "\n",
    "### TEST ###\n",
    "#houseSalesCopy.isnull().sum()\n"
   ]
  },
  {
   "cell_type": "code",
   "execution_count": 56,
   "id": "19c799e5",
   "metadata": {
    "scrolled": true
   },
   "outputs": [
    {
     "data": {
      "text/plain": [
       "id                 0\n",
       "bedrooms           0\n",
       "bathrooms          0\n",
       "sqft_living        0\n",
       "sqft_lot           0\n",
       "floors             0\n",
       "waterfront         0\n",
       "view               0\n",
       "house_condition    0\n",
       "grade              0\n",
       "sqft_above         0\n",
       "sqft_basement      0\n",
       "year_built         0\n",
       "zipcode            0\n",
       "lat                0\n",
       "long               0\n",
       "sqft_living_15     0\n",
       "sqft_lot_15        0\n",
       "dtype: int64"
      ]
     },
     "execution_count": 56,
     "metadata": {},
     "output_type": "execute_result"
    }
   ],
   "source": [
    "### DEFINE ###\n",
    "#nan in long\n",
    "#deleting all left NAN because they are very specefic stuff that cant be autogenerated \n",
    "\n",
    "### CLEAN ### \n",
    "#houseDatCopy.dropna(axis=0,how='any',inplace=True)\n",
    "\n",
    "### TEST ###\n",
    "houseDatCopy.isnull().sum()\n"
   ]
  },
  {
   "cell_type": "markdown",
   "id": "8397cecc",
   "metadata": {},
   "source": [
    "### Step 4: Treat Outliers"
   ]
  },
  {
   "cell_type": "code",
   "execution_count": 58,
   "id": "217889fd",
   "metadata": {},
   "outputs": [],
   "source": [
    "######################### TO DO ###################################\n",
    "from scipy.stats import zscore\n",
    "####### FOLLOW PROJECT DIRECTIONS TO COMPLETE THIS STEP ###########"
   ]
  },
  {
   "cell_type": "code",
   "execution_count": 63,
   "id": "0f99ae6a",
   "metadata": {},
   "outputs": [
    {
     "data": {
      "text/html": [
       "<div>\n",
       "<style scoped>\n",
       "    .dataframe tbody tr th:only-of-type {\n",
       "        vertical-align: middle;\n",
       "    }\n",
       "\n",
       "    .dataframe tbody tr th {\n",
       "        vertical-align: top;\n",
       "    }\n",
       "\n",
       "    .dataframe thead th {\n",
       "        text-align: right;\n",
       "    }\n",
       "</style>\n",
       "<table border=\"1\" class=\"dataframe\">\n",
       "  <thead>\n",
       "    <tr style=\"text-align: right;\">\n",
       "      <th></th>\n",
       "      <th>id</th>\n",
       "      <th>bedrooms</th>\n",
       "      <th>bathrooms</th>\n",
       "      <th>sqft_living</th>\n",
       "      <th>sqft_lot</th>\n",
       "      <th>floors</th>\n",
       "      <th>waterfront</th>\n",
       "      <th>view</th>\n",
       "      <th>house_condition</th>\n",
       "      <th>grade</th>\n",
       "      <th>sqft_above</th>\n",
       "      <th>sqft_basement</th>\n",
       "      <th>year_built</th>\n",
       "      <th>zipcode</th>\n",
       "      <th>lat</th>\n",
       "      <th>long</th>\n",
       "      <th>sqft_living_15</th>\n",
       "      <th>sqft_lot_15</th>\n",
       "      <th>bedrooms_zscore</th>\n",
       "    </tr>\n",
       "  </thead>\n",
       "  <tbody>\n",
       "  </tbody>\n",
       "</table>\n",
       "</div>"
      ],
      "text/plain": [
       "Empty DataFrame\n",
       "Columns: [id, bedrooms, bathrooms, sqft_living, sqft_lot, floors, waterfront, view, house_condition, grade, sqft_above, sqft_basement, year_built, zipcode, lat, long, sqft_living_15, sqft_lot_15, bedrooms_zscore]\n",
       "Index: []"
      ]
     },
     "execution_count": 63,
     "metadata": {},
     "output_type": "execute_result"
    }
   ],
   "source": [
    "### DEFINE ###\n",
    "\n",
    "#outliers in bedroom \n",
    "### CLEAN ### \n",
    "#houseDatCopy['bedrooms_zscore'] = zscore(houseDatCopy.bedrooms)\n",
    "#even tho i am not really good with zcore, i can see there are only 76 in the 21000 rows \n",
    "#so we can drop them as we have enough data\n",
    "### TEST ###\n",
    "houseDatCopy.query('bedrooms_zscore > 3 or bedrooms_zscore < -3')\n",
    "#houseDatCopy.head()\n",
    "#houseDatCopy = houseDatCopy.query('bedrooms_zscore < 3 and bedrooms_zscore > -3').copy()\n"
   ]
  },
  {
   "cell_type": "code",
   "execution_count": 66,
   "id": "479968b0",
   "metadata": {},
   "outputs": [
    {
     "data": {
      "text/html": [
       "<div>\n",
       "<style scoped>\n",
       "    .dataframe tbody tr th:only-of-type {\n",
       "        vertical-align: middle;\n",
       "    }\n",
       "\n",
       "    .dataframe tbody tr th {\n",
       "        vertical-align: top;\n",
       "    }\n",
       "\n",
       "    .dataframe thead th {\n",
       "        text-align: right;\n",
       "    }\n",
       "</style>\n",
       "<table border=\"1\" class=\"dataframe\">\n",
       "  <thead>\n",
       "    <tr style=\"text-align: right;\">\n",
       "      <th></th>\n",
       "      <th>id</th>\n",
       "      <th>bedrooms</th>\n",
       "      <th>bathrooms</th>\n",
       "      <th>sqft_living</th>\n",
       "      <th>sqft_lot</th>\n",
       "      <th>floors</th>\n",
       "      <th>waterfront</th>\n",
       "      <th>view</th>\n",
       "      <th>house_condition</th>\n",
       "      <th>grade</th>\n",
       "      <th>sqft_above</th>\n",
       "      <th>sqft_basement</th>\n",
       "      <th>year_built</th>\n",
       "      <th>zipcode</th>\n",
       "      <th>lat</th>\n",
       "      <th>long</th>\n",
       "      <th>sqft_living_15</th>\n",
       "      <th>sqft_lot_15</th>\n",
       "      <th>bedrooms_zscore</th>\n",
       "      <th>bathroom_zscore</th>\n",
       "    </tr>\n",
       "  </thead>\n",
       "  <tbody>\n",
       "  </tbody>\n",
       "</table>\n",
       "</div>"
      ],
      "text/plain": [
       "Empty DataFrame\n",
       "Columns: [id, bedrooms, bathrooms, sqft_living, sqft_lot, floors, waterfront, view, house_condition, grade, sqft_above, sqft_basement, year_built, zipcode, lat, long, sqft_living_15, sqft_lot_15, bedrooms_zscore, bathroom_zscore]\n",
       "Index: []"
      ]
     },
     "execution_count": 66,
     "metadata": {},
     "output_type": "execute_result"
    }
   ],
   "source": [
    "### DEFINE ###\n",
    "\n",
    "#outliers in bathroom \n",
    "### CLEAN ### \n",
    "#houseDatCopy['bathroom_zscore'] = zscore(houseDatCopy.bathrooms)\n",
    "#even tho i am not really good with zcore, i can see there are only 76 in the 21000 rows \n",
    "#so we can drop them as we have enough data\n",
    "### TEST ###\n",
    "#houseDatCopy.query('bedrooms_zscore > 3 or bedrooms_zscore < -3')\n",
    "#houseDatCopy.head()\n",
    "#houseDatCopy = houseDatCopy.query('bedrooms_zscore < 3 and bedrooms_zscore > -3').copy()\n"
   ]
  },
  {
   "cell_type": "markdown",
   "id": "0a54e6b7",
   "metadata": {},
   "source": [
    "### Step 5: Summarize Actions Taken & Justify Approach"
   ]
  },
  {
   "cell_type": "code",
   "execution_count": 68,
   "id": "151012ff",
   "metadata": {
    "scrolled": false
   },
   "outputs": [
    {
     "data": {
      "text/plain": [
       "id       0\n",
       "date     0\n",
       "price    0\n",
       "dtype: int64"
      ]
     },
     "execution_count": 68,
     "metadata": {},
     "output_type": "execute_result"
    }
   ],
   "source": [
    "######################### TO DO ##################################\n",
    "houseDatCopy.isnull().sum()\n",
    "####### FOLLOW PROJECT DIRECTIONS TO COMPLETE THIS STEP ###########"
   ]
  },
  {
   "cell_type": "code",
   "execution_count": 69,
   "id": "b9bb11dc",
   "metadata": {},
   "outputs": [
    {
     "data": {
      "text/plain": [
       "id       0\n",
       "date     0\n",
       "price    0\n",
       "dtype: int64"
      ]
     },
     "execution_count": 69,
     "metadata": {},
     "output_type": "execute_result"
    }
   ],
   "source": [
    "houseSalesCopy.isnull().sum()\n"
   ]
  },
  {
   "cell_type": "markdown",
   "id": "0b825639",
   "metadata": {},
   "source": [
    "####### TO DO ###### - Edit this cell to add your summary and justification per project instructions."
   ]
  },
  {
   "cell_type": "markdown",
   "id": "be32e952",
   "metadata": {},
   "source": [
    "## Part 4: Re-Express Categorical Variables"
   ]
  },
  {
   "cell_type": "markdown",
   "id": "60bcdbc8",
   "metadata": {},
   "source": [
    "### Step 1: Determine Which Variables Need to Be Re-Expressed"
   ]
  },
  {
   "cell_type": "code",
   "execution_count": null,
   "id": "4aecd3ad",
   "metadata": {},
   "outputs": [],
   "source": [
    "######################### TO DO ###################################\n",
    "\n",
    "####### FOLLOW PROJECT DIRECTIONS TO COMPLETE THIS STEP ###########\\"
   ]
  },
  {
   "cell_type": "markdown",
   "id": "1f856e80",
   "metadata": {},
   "source": [
    "List categorical variables which need to be re-expressed here:\n",
    "\n",
    "- ########## TO DO ###########'\n",
    "waterfront is yes and no, we can make it a 0 and 1 \n",
    "view can be a scale from 1 to 5\n",
    "house condition can be also scale from 1 to 5\n",
    "- ########## TO DO ###########\n",
    "- ########## TO DO ###########\n",
    "- ########## TO DO ########### ........"
   ]
  },
  {
   "cell_type": "markdown",
   "id": "b6b6cbdb",
   "metadata": {},
   "source": [
    "### Step 2: Choose Method to Re-Express Variables"
   ]
  },
  {
   "cell_type": "code",
   "execution_count": null,
   "id": "0c8977ed",
   "metadata": {},
   "outputs": [],
   "source": [
    "#############b############ TO DO ###################################\n",
    "\n",
    "####### FOLLOW PROJECT DIRECTIONS TO COMPLETE THIS STEP ###########"
   ]
  },
  {
   "cell_type": "code",
   "execution_count": 73,
   "id": "de3feed0",
   "metadata": {},
   "outputs": [
    {
     "data": {
      "text/plain": [
       "array(['No', 'Yes'], dtype=object)"
      ]
     },
     "execution_count": 73,
     "metadata": {},
     "output_type": "execute_result"
    }
   ],
   "source": [
    "houseDatCopy.waterfront.unique()"
   ]
  },
  {
   "cell_type": "code",
   "execution_count": 74,
   "id": "75fabd7b",
   "metadata": {},
   "outputs": [
    {
     "data": {
      "text/plain": [
       "array(['Very Poor', 'Good', 'Great', 'Neutral', 'Poor'], dtype=object)"
      ]
     },
     "execution_count": 74,
     "metadata": {},
     "output_type": "execute_result"
    }
   ],
   "source": [
    "houseDatCopy.view.unique()"
   ]
  },
  {
   "cell_type": "code",
   "execution_count": 75,
   "id": "ae476e18",
   "metadata": {},
   "outputs": [
    {
     "data": {
      "text/plain": [
       "array(['OK Condition', 'Great Condition', 'Good Condition',\n",
       "       'Very Bad Condition', 'Bad Condition'], dtype=object)"
      ]
     },
     "execution_count": 75,
     "metadata": {},
     "output_type": "execute_result"
    }
   ],
   "source": [
    "houseDatCopy.house_condition.unique()"
   ]
  },
  {
   "cell_type": "markdown",
   "id": "dc0fd315",
   "metadata": {},
   "source": [
    "Edit this cell to explain which method you are choosing to re-express each variable and why. "
   ]
  },
  {
   "cell_type": "markdown",
   "id": "f4c3e76b",
   "metadata": {},
   "source": [
    "### Step 3: Perform Transformation "
   ]
  },
  {
   "cell_type": "code",
   "execution_count": 77,
   "id": "8542a6d1",
   "metadata": {},
   "outputs": [],
   "source": [
    "######################### TO DO ###################################\n",
    "\n",
    "houseDatCopy.waterfront = houseDatCopy.waterfront.replace({'Yes':1,'No':0})\n",
    "####### FOLLOW PROJECT DIRECTIONS TO COMPLETE THISb STEP ###########"
   ]
  },
  {
   "cell_type": "code",
   "execution_count": 78,
   "id": "41a7f047",
   "metadata": {},
   "outputs": [
    {
     "data": {
      "text/plain": [
       "array([0, 1], dtype=int64)"
      ]
     },
     "execution_count": 78,
     "metadata": {},
     "output_type": "execute_result"
    }
   ],
   "source": [
    "houseDatCopy.waterfront.unique()"
   ]
  },
  {
   "cell_type": "code",
   "execution_count": 79,
   "id": "4fc4fe12",
   "metadata": {},
   "outputs": [],
   "source": [
    "######################### TO DO ###################################\n",
    "houseDatCopy.view = houseDatCopy.view.replace({'Very Poor':1,'Good':4, 'Great':5, 'Neutral':3, 'Poor':2}) \n",
    "####### FOLLOW PROJECT DIRECTIONS TO COMPLETE THIS STEP ###########"
   ]
  },
  {
   "cell_type": "code",
   "execution_count": 80,
   "id": "6956bc29",
   "metadata": {},
   "outputs": [
    {
     "data": {
      "text/plain": [
       "array([1, 4, 5, 3, 2], dtype=int64)"
      ]
     },
     "execution_count": 80,
     "metadata": {},
     "output_type": "execute_result"
    }
   ],
   "source": [
    "houseDatCopy.view.unique()"
   ]
  },
  {
   "cell_type": "code",
   "execution_count": 81,
   "id": "01bcff65",
   "metadata": {},
   "outputs": [],
   "source": [
    "######################### TO DO ###################################\n",
    "houseDatCopy.house_condition = houseDatCopy.house_condition.replace({'OK Condition':3, 'Great Condition':5, 'Good Condition':4,\n",
    "       'Very Bad Condition':1, 'Bad Condition':2}) \n",
    "\n",
    "####### FOLLOW PROJECT DIRECTIONS TO COMPLETE THIS STEP ###########"
   ]
  },
  {
   "cell_type": "code",
   "execution_count": 82,
   "id": "32c3822b",
   "metadata": {},
   "outputs": [
    {
     "data": {
      "text/plain": [
       "array([3, 5, 4, 1, 2], dtype=int64)"
      ]
     },
     "execution_count": 82,
     "metadata": {},
     "output_type": "execute_result"
    }
   ],
   "source": [
    "houseDatCopy.house_condition.unique()"
   ]
  },
  {
   "cell_type": "code",
   "execution_count": null,
   "id": "5aa9bbef",
   "metadata": {},
   "outputs": [],
   "source": [
    "######################### TO DO ###################################\n",
    "\n",
    "####### FOLLOW PROJECT DIRECTIONS TO COMPLETE THIS STEP ###########"
   ]
  },
  {
   "cell_type": "markdown",
   "id": "f2ce1391",
   "metadata": {},
   "source": [
    "### Step 4: Summarize Actions Taken & Justify Approach"
   ]
  },
  {
   "cell_type": "code",
   "execution_count": null,
   "id": "d87dcba1",
   "metadata": {},
   "outputs": [],
   "source": [
    "######################### TO DO ###################################\n",
    "\n",
    "####### FOLLOW PROJECT DIRECTIONS TO COMPLETE THIS STEP ###########"
   ]
  },
  {
   "cell_type": "markdown",
   "id": "fdd1a79e",
   "metadata": {},
   "source": [
    "Edit this cell to add your summary and justification per project instructions.\n",
    "\n",
    "\n",
    "waterfront changed from yes no to 0 1, this i sbecause there are only 2 unique characters and its logical to make them 0 and 1 \n",
    "\n",
    "for both view and house_condition, making them a scale from 1-5 is better becuase we can acually use them, this means its easier to use 1-5 to filter by condition/view than strings and it lowers the weight"
   ]
  },
  {
   "cell_type": "markdown",
   "id": "e592a7c3",
   "metadata": {},
   "source": [
    "## Part 5: Combine Datasets into Master DataFrame"
   ]
  },
  {
   "cell_type": "markdown",
   "id": "faf1efd6",
   "metadata": {},
   "source": [
    "### Step 1: Choose Method to Merge DataFrames into New Master DataFrame"
   ]
  },
  {
   "cell_type": "code",
   "execution_count": null,
   "id": "f2915bd5",
   "metadata": {},
   "outputs": [],
   "source": [
    "######################### TO DO ###################################\n",
    "\n",
    "####### FOLLOW PROJECT DIRECTIONS TO COMPLETE THIS STEP ###########"
   ]
  },
  {
   "cell_type": "markdown",
   "id": "519d0760",
   "metadata": {},
   "source": [
    "Edit this cell to explain which method you are choosing to merge the data and why. \n",
    "we dont really need to dagtaframes, we can just merge on id for both and make a master. This is easier so that we can see price and date and all the data on one master table"
   ]
  },
  {
   "cell_type": "markdown",
   "id": "4b9afb13",
   "metadata": {},
   "source": [
    "### Step 2: Merge DataFrames"
   ]
  },
  {
   "cell_type": "code",
   "execution_count": 83,
   "id": "99031a01",
   "metadata": {},
   "outputs": [],
   "source": [
    "######################### TO DO ###################################\n",
    "\n",
    "####### FOLLOW PROJECT DIRECTIONS TO COMPLETE THIS STEP ###########\n",
    "masterHouse = houseSalesCopy.merge(houseDatCopy, on='id')"
   ]
  },
  {
   "cell_type": "code",
   "execution_count": 84,
   "id": "55fb9a12",
   "metadata": {
    "scrolled": true
   },
   "outputs": [
    {
     "data": {
      "text/html": [
       "<div>\n",
       "<style scoped>\n",
       "    .dataframe tbody tr th:only-of-type {\n",
       "        vertical-align: middle;\n",
       "    }\n",
       "\n",
       "    .dataframe tbody tr th {\n",
       "        vertical-align: top;\n",
       "    }\n",
       "\n",
       "    .dataframe thead th {\n",
       "        text-align: right;\n",
       "    }\n",
       "</style>\n",
       "<table border=\"1\" class=\"dataframe\">\n",
       "  <thead>\n",
       "    <tr style=\"text-align: right;\">\n",
       "      <th></th>\n",
       "      <th>id</th>\n",
       "      <th>date</th>\n",
       "      <th>price</th>\n",
       "      <th>bedrooms</th>\n",
       "      <th>bathrooms</th>\n",
       "      <th>sqft_living</th>\n",
       "      <th>sqft_lot</th>\n",
       "      <th>floors</th>\n",
       "      <th>waterfront</th>\n",
       "      <th>view</th>\n",
       "      <th>...</th>\n",
       "      <th>sqft_above</th>\n",
       "      <th>sqft_basement</th>\n",
       "      <th>year_built</th>\n",
       "      <th>zipcode</th>\n",
       "      <th>lat</th>\n",
       "      <th>long</th>\n",
       "      <th>sqft_living_15</th>\n",
       "      <th>sqft_lot_15</th>\n",
       "      <th>bedrooms_zscore</th>\n",
       "      <th>bathroom_zscore</th>\n",
       "    </tr>\n",
       "  </thead>\n",
       "  <tbody>\n",
       "    <tr>\n",
       "      <th>0</th>\n",
       "      <td>7129300520</td>\n",
       "      <td>2014-10-13</td>\n",
       "      <td>22190000.0</td>\n",
       "      <td>3</td>\n",
       "      <td>1.00</td>\n",
       "      <td>1180</td>\n",
       "      <td>5650.0</td>\n",
       "      <td>1.0</td>\n",
       "      <td>0</td>\n",
       "      <td>1</td>\n",
       "      <td>...</td>\n",
       "      <td>1180.0</td>\n",
       "      <td>0</td>\n",
       "      <td>1955.0</td>\n",
       "      <td>98178.0</td>\n",
       "      <td>47.5112</td>\n",
       "      <td>-122.257</td>\n",
       "      <td>1340</td>\n",
       "      <td>5650</td>\n",
       "      <td>-0.392869</td>\n",
       "      <td>-1.454285</td>\n",
       "    </tr>\n",
       "    <tr>\n",
       "      <th>1</th>\n",
       "      <td>6414100192</td>\n",
       "      <td>2014-12-09</td>\n",
       "      <td>53800000.0</td>\n",
       "      <td>3</td>\n",
       "      <td>2.25</td>\n",
       "      <td>2570</td>\n",
       "      <td>7242.0</td>\n",
       "      <td>2.0</td>\n",
       "      <td>0</td>\n",
       "      <td>1</td>\n",
       "      <td>...</td>\n",
       "      <td>2170.0</td>\n",
       "      <td>400</td>\n",
       "      <td>1951.0</td>\n",
       "      <td>98125.0</td>\n",
       "      <td>47.7210</td>\n",
       "      <td>-122.319</td>\n",
       "      <td>1690</td>\n",
       "      <td>7639</td>\n",
       "      <td>-0.392869</td>\n",
       "      <td>0.181667</td>\n",
       "    </tr>\n",
       "    <tr>\n",
       "      <th>2</th>\n",
       "      <td>5631500400</td>\n",
       "      <td>2015-02-25</td>\n",
       "      <td>18000000.0</td>\n",
       "      <td>2</td>\n",
       "      <td>1.00</td>\n",
       "      <td>770</td>\n",
       "      <td>10000.0</td>\n",
       "      <td>1.0</td>\n",
       "      <td>0</td>\n",
       "      <td>1</td>\n",
       "      <td>...</td>\n",
       "      <td>770.0</td>\n",
       "      <td>0</td>\n",
       "      <td>1933.0</td>\n",
       "      <td>98028.0</td>\n",
       "      <td>47.7379</td>\n",
       "      <td>-122.233</td>\n",
       "      <td>2720</td>\n",
       "      <td>8062</td>\n",
       "      <td>-1.448358</td>\n",
       "      <td>-1.454285</td>\n",
       "    </tr>\n",
       "    <tr>\n",
       "      <th>3</th>\n",
       "      <td>2487200875</td>\n",
       "      <td>2014-12-09</td>\n",
       "      <td>60400000.0</td>\n",
       "      <td>4</td>\n",
       "      <td>3.00</td>\n",
       "      <td>1960</td>\n",
       "      <td>5000.0</td>\n",
       "      <td>1.0</td>\n",
       "      <td>0</td>\n",
       "      <td>1</td>\n",
       "      <td>...</td>\n",
       "      <td>1050.0</td>\n",
       "      <td>910</td>\n",
       "      <td>1965.0</td>\n",
       "      <td>98136.0</td>\n",
       "      <td>47.5208</td>\n",
       "      <td>-122.393</td>\n",
       "      <td>1360</td>\n",
       "      <td>5000</td>\n",
       "      <td>0.662619</td>\n",
       "      <td>1.163238</td>\n",
       "    </tr>\n",
       "    <tr>\n",
       "      <th>4</th>\n",
       "      <td>1954400510</td>\n",
       "      <td>2015-02-18</td>\n",
       "      <td>51000000.0</td>\n",
       "      <td>3</td>\n",
       "      <td>2.00</td>\n",
       "      <td>1680</td>\n",
       "      <td>8080.0</td>\n",
       "      <td>1.0</td>\n",
       "      <td>0</td>\n",
       "      <td>1</td>\n",
       "      <td>...</td>\n",
       "      <td>1680.0</td>\n",
       "      <td>0</td>\n",
       "      <td>1987.0</td>\n",
       "      <td>98074.0</td>\n",
       "      <td>47.6168</td>\n",
       "      <td>-122.045</td>\n",
       "      <td>1800</td>\n",
       "      <td>7503</td>\n",
       "      <td>-0.392869</td>\n",
       "      <td>-0.145523</td>\n",
       "    </tr>\n",
       "  </tbody>\n",
       "</table>\n",
       "<p>5 rows × 22 columns</p>\n",
       "</div>"
      ],
      "text/plain": [
       "           id       date       price  bedrooms  bathrooms  sqft_living  \\\n",
       "0  7129300520 2014-10-13  22190000.0         3       1.00         1180   \n",
       "1  6414100192 2014-12-09  53800000.0         3       2.25         2570   \n",
       "2  5631500400 2015-02-25  18000000.0         2       1.00          770   \n",
       "3  2487200875 2014-12-09  60400000.0         4       3.00         1960   \n",
       "4  1954400510 2015-02-18  51000000.0         3       2.00         1680   \n",
       "\n",
       "   sqft_lot  floors  waterfront  view  ...  sqft_above  sqft_basement  \\\n",
       "0    5650.0     1.0           0     1  ...      1180.0              0   \n",
       "1    7242.0     2.0           0     1  ...      2170.0            400   \n",
       "2   10000.0     1.0           0     1  ...       770.0              0   \n",
       "3    5000.0     1.0           0     1  ...      1050.0            910   \n",
       "4    8080.0     1.0           0     1  ...      1680.0              0   \n",
       "\n",
       "   year_built  zipcode      lat     long  sqft_living_15  sqft_lot_15  \\\n",
       "0      1955.0  98178.0  47.5112 -122.257            1340         5650   \n",
       "1      1951.0  98125.0  47.7210 -122.319            1690         7639   \n",
       "2      1933.0  98028.0  47.7379 -122.233            2720         8062   \n",
       "3      1965.0  98136.0  47.5208 -122.393            1360         5000   \n",
       "4      1987.0  98074.0  47.6168 -122.045            1800         7503   \n",
       "\n",
       "   bedrooms_zscore  bathroom_zscore  \n",
       "0        -0.392869        -1.454285  \n",
       "1        -0.392869         0.181667  \n",
       "2        -1.448358        -1.454285  \n",
       "3         0.662619         1.163238  \n",
       "4        -0.392869        -0.145523  \n",
       "\n",
       "[5 rows x 22 columns]"
      ]
     },
     "execution_count": 84,
     "metadata": {},
     "output_type": "execute_result"
    }
   ],
   "source": [
    "# Use .head() method to print first few rows of new master dataframe\n",
    "masterHouse.head()"
   ]
  },
  {
   "cell_type": "code",
   "execution_count": 96,
   "id": "562ac1aa",
   "metadata": {
    "scrolled": true
   },
   "outputs": [
    {
     "name": "stdout",
     "output_type": "stream",
     "text": [
      "<class 'pandas.core.frame.DataFrame'>\n",
      "Int64Index: 21870 entries, 0 to 21869\n",
      "Data columns (total 20 columns):\n",
      " #   Column           Non-Null Count  Dtype         \n",
      "---  ------           --------------  -----         \n",
      " 0   id               21870 non-null  object        \n",
      " 1   date             21870 non-null  datetime64[ns]\n",
      " 2   price            21870 non-null  float64       \n",
      " 3   bedrooms         21870 non-null  int64         \n",
      " 4   bathrooms        21870 non-null  float64       \n",
      " 5   sqft_living      21870 non-null  int64         \n",
      " 6   sqft_lot         21870 non-null  float64       \n",
      " 7   floors           21870 non-null  float64       \n",
      " 8   waterfront       21870 non-null  int64         \n",
      " 9   view             21870 non-null  int64         \n",
      " 10  house_condition  21870 non-null  int64         \n",
      " 11  grade            21870 non-null  float64       \n",
      " 12  sqft_above       21870 non-null  float64       \n",
      " 13  sqft_basement    21870 non-null  int64         \n",
      " 14  year_built       21870 non-null  float64       \n",
      " 15  zipcode          21870 non-null  object        \n",
      " 16  lat              21870 non-null  float64       \n",
      " 17  long             21870 non-null  float64       \n",
      " 18  sqft_living_15   21870 non-null  int64         \n",
      " 19  sqft_lot_15      21870 non-null  int64         \n",
      "dtypes: datetime64[ns](1), float64(9), int64(8), object(2)\n",
      "memory usage: 3.5+ MB\n"
     ]
    }
   ],
   "source": [
    "masterHouse.info()"
   ]
  },
  {
   "cell_type": "code",
   "execution_count": null,
   "id": "bf51648a",
   "metadata": {},
   "outputs": [],
   "source": []
  },
  {
   "cell_type": "markdown",
   "id": "407fda16",
   "metadata": {},
   "source": [
    "#we forgot to strop the .0 from zip \n"
   ]
  },
  {
   "cell_type": "code",
   "execution_count": 89,
   "id": "2e5ed324",
   "metadata": {},
   "outputs": [],
   "source": [
    "masterHouse.zipcode = masterHouse.zipcode.astype(str)"
   ]
  },
  {
   "cell_type": "code",
   "execution_count": 92,
   "id": "af7d7986",
   "metadata": {},
   "outputs": [],
   "source": [
    "masterHouse.zipcode = masterHouse.zipcode.map(lambda z:z.rstrip('.0'))"
   ]
  },
  {
   "cell_type": "code",
   "execution_count": 93,
   "id": "65d7a414",
   "metadata": {
    "scrolled": true
   },
   "outputs": [
    {
     "data": {
      "text/html": [
       "<div>\n",
       "<style scoped>\n",
       "    .dataframe tbody tr th:only-of-type {\n",
       "        vertical-align: middle;\n",
       "    }\n",
       "\n",
       "    .dataframe tbody tr th {\n",
       "        vertical-align: top;\n",
       "    }\n",
       "\n",
       "    .dataframe thead th {\n",
       "        text-align: right;\n",
       "    }\n",
       "</style>\n",
       "<table border=\"1\" class=\"dataframe\">\n",
       "  <thead>\n",
       "    <tr style=\"text-align: right;\">\n",
       "      <th></th>\n",
       "      <th>id</th>\n",
       "      <th>date</th>\n",
       "      <th>price</th>\n",
       "      <th>bedrooms</th>\n",
       "      <th>bathrooms</th>\n",
       "      <th>sqft_living</th>\n",
       "      <th>sqft_lot</th>\n",
       "      <th>floors</th>\n",
       "      <th>waterfront</th>\n",
       "      <th>view</th>\n",
       "      <th>...</th>\n",
       "      <th>sqft_above</th>\n",
       "      <th>sqft_basement</th>\n",
       "      <th>year_built</th>\n",
       "      <th>zipcode</th>\n",
       "      <th>lat</th>\n",
       "      <th>long</th>\n",
       "      <th>sqft_living_15</th>\n",
       "      <th>sqft_lot_15</th>\n",
       "      <th>bedrooms_zscore</th>\n",
       "      <th>bathroom_zscore</th>\n",
       "    </tr>\n",
       "  </thead>\n",
       "  <tbody>\n",
       "    <tr>\n",
       "      <th>0</th>\n",
       "      <td>7129300520</td>\n",
       "      <td>2014-10-13</td>\n",
       "      <td>22190000.0</td>\n",
       "      <td>3</td>\n",
       "      <td>1.00</td>\n",
       "      <td>1180</td>\n",
       "      <td>5650.0</td>\n",
       "      <td>1.0</td>\n",
       "      <td>0</td>\n",
       "      <td>1</td>\n",
       "      <td>...</td>\n",
       "      <td>1180.0</td>\n",
       "      <td>0</td>\n",
       "      <td>1955.0</td>\n",
       "      <td>98178</td>\n",
       "      <td>47.5112</td>\n",
       "      <td>-122.257</td>\n",
       "      <td>1340</td>\n",
       "      <td>5650</td>\n",
       "      <td>-0.392869</td>\n",
       "      <td>-1.454285</td>\n",
       "    </tr>\n",
       "    <tr>\n",
       "      <th>1</th>\n",
       "      <td>6414100192</td>\n",
       "      <td>2014-12-09</td>\n",
       "      <td>53800000.0</td>\n",
       "      <td>3</td>\n",
       "      <td>2.25</td>\n",
       "      <td>2570</td>\n",
       "      <td>7242.0</td>\n",
       "      <td>2.0</td>\n",
       "      <td>0</td>\n",
       "      <td>1</td>\n",
       "      <td>...</td>\n",
       "      <td>2170.0</td>\n",
       "      <td>400</td>\n",
       "      <td>1951.0</td>\n",
       "      <td>98125</td>\n",
       "      <td>47.7210</td>\n",
       "      <td>-122.319</td>\n",
       "      <td>1690</td>\n",
       "      <td>7639</td>\n",
       "      <td>-0.392869</td>\n",
       "      <td>0.181667</td>\n",
       "    </tr>\n",
       "    <tr>\n",
       "      <th>2</th>\n",
       "      <td>5631500400</td>\n",
       "      <td>2015-02-25</td>\n",
       "      <td>18000000.0</td>\n",
       "      <td>2</td>\n",
       "      <td>1.00</td>\n",
       "      <td>770</td>\n",
       "      <td>10000.0</td>\n",
       "      <td>1.0</td>\n",
       "      <td>0</td>\n",
       "      <td>1</td>\n",
       "      <td>...</td>\n",
       "      <td>770.0</td>\n",
       "      <td>0</td>\n",
       "      <td>1933.0</td>\n",
       "      <td>98028</td>\n",
       "      <td>47.7379</td>\n",
       "      <td>-122.233</td>\n",
       "      <td>2720</td>\n",
       "      <td>8062</td>\n",
       "      <td>-1.448358</td>\n",
       "      <td>-1.454285</td>\n",
       "    </tr>\n",
       "    <tr>\n",
       "      <th>3</th>\n",
       "      <td>2487200875</td>\n",
       "      <td>2014-12-09</td>\n",
       "      <td>60400000.0</td>\n",
       "      <td>4</td>\n",
       "      <td>3.00</td>\n",
       "      <td>1960</td>\n",
       "      <td>5000.0</td>\n",
       "      <td>1.0</td>\n",
       "      <td>0</td>\n",
       "      <td>1</td>\n",
       "      <td>...</td>\n",
       "      <td>1050.0</td>\n",
       "      <td>910</td>\n",
       "      <td>1965.0</td>\n",
       "      <td>98136</td>\n",
       "      <td>47.5208</td>\n",
       "      <td>-122.393</td>\n",
       "      <td>1360</td>\n",
       "      <td>5000</td>\n",
       "      <td>0.662619</td>\n",
       "      <td>1.163238</td>\n",
       "    </tr>\n",
       "    <tr>\n",
       "      <th>4</th>\n",
       "      <td>1954400510</td>\n",
       "      <td>2015-02-18</td>\n",
       "      <td>51000000.0</td>\n",
       "      <td>3</td>\n",
       "      <td>2.00</td>\n",
       "      <td>1680</td>\n",
       "      <td>8080.0</td>\n",
       "      <td>1.0</td>\n",
       "      <td>0</td>\n",
       "      <td>1</td>\n",
       "      <td>...</td>\n",
       "      <td>1680.0</td>\n",
       "      <td>0</td>\n",
       "      <td>1987.0</td>\n",
       "      <td>98074</td>\n",
       "      <td>47.6168</td>\n",
       "      <td>-122.045</td>\n",
       "      <td>1800</td>\n",
       "      <td>7503</td>\n",
       "      <td>-0.392869</td>\n",
       "      <td>-0.145523</td>\n",
       "    </tr>\n",
       "  </tbody>\n",
       "</table>\n",
       "<p>5 rows × 22 columns</p>\n",
       "</div>"
      ],
      "text/plain": [
       "           id       date       price  bedrooms  bathrooms  sqft_living  \\\n",
       "0  7129300520 2014-10-13  22190000.0         3       1.00         1180   \n",
       "1  6414100192 2014-12-09  53800000.0         3       2.25         2570   \n",
       "2  5631500400 2015-02-25  18000000.0         2       1.00          770   \n",
       "3  2487200875 2014-12-09  60400000.0         4       3.00         1960   \n",
       "4  1954400510 2015-02-18  51000000.0         3       2.00         1680   \n",
       "\n",
       "   sqft_lot  floors  waterfront  view  ...  sqft_above  sqft_basement  \\\n",
       "0    5650.0     1.0           0     1  ...      1180.0              0   \n",
       "1    7242.0     2.0           0     1  ...      2170.0            400   \n",
       "2   10000.0     1.0           0     1  ...       770.0              0   \n",
       "3    5000.0     1.0           0     1  ...      1050.0            910   \n",
       "4    8080.0     1.0           0     1  ...      1680.0              0   \n",
       "\n",
       "   year_built  zipcode      lat     long  sqft_living_15  sqft_lot_15  \\\n",
       "0      1955.0    98178  47.5112 -122.257            1340         5650   \n",
       "1      1951.0    98125  47.7210 -122.319            1690         7639   \n",
       "2      1933.0    98028  47.7379 -122.233            2720         8062   \n",
       "3      1965.0    98136  47.5208 -122.393            1360         5000   \n",
       "4      1987.0    98074  47.6168 -122.045            1800         7503   \n",
       "\n",
       "   bedrooms_zscore  bathroom_zscore  \n",
       "0        -0.392869        -1.454285  \n",
       "1        -0.392869         0.181667  \n",
       "2        -1.448358        -1.454285  \n",
       "3         0.662619         1.163238  \n",
       "4        -0.392869        -0.145523  \n",
       "\n",
       "[5 rows x 22 columns]"
      ]
     },
     "execution_count": 93,
     "metadata": {},
     "output_type": "execute_result"
    }
   ],
   "source": [
    "masterHouse.head()"
   ]
  },
  {
   "cell_type": "code",
   "execution_count": 94,
   "id": "b909f41a",
   "metadata": {},
   "outputs": [],
   "source": [
    "#we need to drop z_scores\n",
    "masterHouse.drop(columns=['bedrooms_zscore','bathroom_zscore'],inplace=True)"
   ]
  },
  {
   "cell_type": "code",
   "execution_count": 95,
   "id": "fca38469",
   "metadata": {},
   "outputs": [
    {
     "data": {
      "text/html": [
       "<div>\n",
       "<style scoped>\n",
       "    .dataframe tbody tr th:only-of-type {\n",
       "        vertical-align: middle;\n",
       "    }\n",
       "\n",
       "    .dataframe tbody tr th {\n",
       "        vertical-align: top;\n",
       "    }\n",
       "\n",
       "    .dataframe thead th {\n",
       "        text-align: right;\n",
       "    }\n",
       "</style>\n",
       "<table border=\"1\" class=\"dataframe\">\n",
       "  <thead>\n",
       "    <tr style=\"text-align: right;\">\n",
       "      <th></th>\n",
       "      <th>id</th>\n",
       "      <th>date</th>\n",
       "      <th>price</th>\n",
       "      <th>bedrooms</th>\n",
       "      <th>bathrooms</th>\n",
       "      <th>sqft_living</th>\n",
       "      <th>sqft_lot</th>\n",
       "      <th>floors</th>\n",
       "      <th>waterfront</th>\n",
       "      <th>view</th>\n",
       "      <th>house_condition</th>\n",
       "      <th>grade</th>\n",
       "      <th>sqft_above</th>\n",
       "      <th>sqft_basement</th>\n",
       "      <th>year_built</th>\n",
       "      <th>zipcode</th>\n",
       "      <th>lat</th>\n",
       "      <th>long</th>\n",
       "      <th>sqft_living_15</th>\n",
       "      <th>sqft_lot_15</th>\n",
       "    </tr>\n",
       "  </thead>\n",
       "  <tbody>\n",
       "    <tr>\n",
       "      <th>0</th>\n",
       "      <td>7129300520</td>\n",
       "      <td>2014-10-13</td>\n",
       "      <td>22190000.0</td>\n",
       "      <td>3</td>\n",
       "      <td>1.00</td>\n",
       "      <td>1180</td>\n",
       "      <td>5650.0</td>\n",
       "      <td>1.0</td>\n",
       "      <td>0</td>\n",
       "      <td>1</td>\n",
       "      <td>3</td>\n",
       "      <td>7.0</td>\n",
       "      <td>1180.0</td>\n",
       "      <td>0</td>\n",
       "      <td>1955.0</td>\n",
       "      <td>98178</td>\n",
       "      <td>47.5112</td>\n",
       "      <td>-122.257</td>\n",
       "      <td>1340</td>\n",
       "      <td>5650</td>\n",
       "    </tr>\n",
       "    <tr>\n",
       "      <th>1</th>\n",
       "      <td>6414100192</td>\n",
       "      <td>2014-12-09</td>\n",
       "      <td>53800000.0</td>\n",
       "      <td>3</td>\n",
       "      <td>2.25</td>\n",
       "      <td>2570</td>\n",
       "      <td>7242.0</td>\n",
       "      <td>2.0</td>\n",
       "      <td>0</td>\n",
       "      <td>1</td>\n",
       "      <td>3</td>\n",
       "      <td>7.0</td>\n",
       "      <td>2170.0</td>\n",
       "      <td>400</td>\n",
       "      <td>1951.0</td>\n",
       "      <td>98125</td>\n",
       "      <td>47.7210</td>\n",
       "      <td>-122.319</td>\n",
       "      <td>1690</td>\n",
       "      <td>7639</td>\n",
       "    </tr>\n",
       "    <tr>\n",
       "      <th>2</th>\n",
       "      <td>5631500400</td>\n",
       "      <td>2015-02-25</td>\n",
       "      <td>18000000.0</td>\n",
       "      <td>2</td>\n",
       "      <td>1.00</td>\n",
       "      <td>770</td>\n",
       "      <td>10000.0</td>\n",
       "      <td>1.0</td>\n",
       "      <td>0</td>\n",
       "      <td>1</td>\n",
       "      <td>3</td>\n",
       "      <td>6.0</td>\n",
       "      <td>770.0</td>\n",
       "      <td>0</td>\n",
       "      <td>1933.0</td>\n",
       "      <td>98028</td>\n",
       "      <td>47.7379</td>\n",
       "      <td>-122.233</td>\n",
       "      <td>2720</td>\n",
       "      <td>8062</td>\n",
       "    </tr>\n",
       "    <tr>\n",
       "      <th>3</th>\n",
       "      <td>2487200875</td>\n",
       "      <td>2014-12-09</td>\n",
       "      <td>60400000.0</td>\n",
       "      <td>4</td>\n",
       "      <td>3.00</td>\n",
       "      <td>1960</td>\n",
       "      <td>5000.0</td>\n",
       "      <td>1.0</td>\n",
       "      <td>0</td>\n",
       "      <td>1</td>\n",
       "      <td>5</td>\n",
       "      <td>7.0</td>\n",
       "      <td>1050.0</td>\n",
       "      <td>910</td>\n",
       "      <td>1965.0</td>\n",
       "      <td>98136</td>\n",
       "      <td>47.5208</td>\n",
       "      <td>-122.393</td>\n",
       "      <td>1360</td>\n",
       "      <td>5000</td>\n",
       "    </tr>\n",
       "    <tr>\n",
       "      <th>4</th>\n",
       "      <td>1954400510</td>\n",
       "      <td>2015-02-18</td>\n",
       "      <td>51000000.0</td>\n",
       "      <td>3</td>\n",
       "      <td>2.00</td>\n",
       "      <td>1680</td>\n",
       "      <td>8080.0</td>\n",
       "      <td>1.0</td>\n",
       "      <td>0</td>\n",
       "      <td>1</td>\n",
       "      <td>3</td>\n",
       "      <td>8.0</td>\n",
       "      <td>1680.0</td>\n",
       "      <td>0</td>\n",
       "      <td>1987.0</td>\n",
       "      <td>98074</td>\n",
       "      <td>47.6168</td>\n",
       "      <td>-122.045</td>\n",
       "      <td>1800</td>\n",
       "      <td>7503</td>\n",
       "    </tr>\n",
       "  </tbody>\n",
       "</table>\n",
       "</div>"
      ],
      "text/plain": [
       "           id       date       price  bedrooms  bathrooms  sqft_living  \\\n",
       "0  7129300520 2014-10-13  22190000.0         3       1.00         1180   \n",
       "1  6414100192 2014-12-09  53800000.0         3       2.25         2570   \n",
       "2  5631500400 2015-02-25  18000000.0         2       1.00          770   \n",
       "3  2487200875 2014-12-09  60400000.0         4       3.00         1960   \n",
       "4  1954400510 2015-02-18  51000000.0         3       2.00         1680   \n",
       "\n",
       "   sqft_lot  floors  waterfront  view  house_condition  grade  sqft_above  \\\n",
       "0    5650.0     1.0           0     1                3    7.0      1180.0   \n",
       "1    7242.0     2.0           0     1                3    7.0      2170.0   \n",
       "2   10000.0     1.0           0     1                3    6.0       770.0   \n",
       "3    5000.0     1.0           0     1                5    7.0      1050.0   \n",
       "4    8080.0     1.0           0     1                3    8.0      1680.0   \n",
       "\n",
       "   sqft_basement  year_built zipcode      lat     long  sqft_living_15  \\\n",
       "0              0      1955.0   98178  47.5112 -122.257            1340   \n",
       "1            400      1951.0   98125  47.7210 -122.319            1690   \n",
       "2              0      1933.0   98028  47.7379 -122.233            2720   \n",
       "3            910      1965.0   98136  47.5208 -122.393            1360   \n",
       "4              0      1987.0   98074  47.6168 -122.045            1800   \n",
       "\n",
       "   sqft_lot_15  \n",
       "0         5650  \n",
       "1         7639  \n",
       "2         8062  \n",
       "3         5000  \n",
       "4         7503  "
      ]
     },
     "execution_count": 95,
     "metadata": {},
     "output_type": "execute_result"
    }
   ],
   "source": [
    "masterHouse.head()"
   ]
  },
  {
   "cell_type": "markdown",
   "id": "676dfdc8",
   "metadata": {},
   "source": [
    "### Step 3: Save Master DataFrame to New .CSV"
   ]
  },
  {
   "cell_type": "code",
   "execution_count": 97,
   "id": "ccf2c160",
   "metadata": {},
   "outputs": [],
   "source": [
    "######################### TO DO ###################################\n",
    "\n",
    "####### FOLLOW PROJECT DIRECTIONS TO COMPLETE THIS STEP ###########\n",
    "masterHouse.to_csv('master.csv',index=False)"
   ]
  },
  {
   "cell_type": "markdown",
   "id": "a34a138b",
   "metadata": {},
   "source": [
    "### Step 4: Push to GitHub / Share Link with Tech Lead & SME"
   ]
  },
  {
   "cell_type": "markdown",
   "id": "16a67912",
   "metadata": {},
   "source": [
    "##### This step will be completed outside of Jupyter Notebook. See \"Submitting Project\" Video Walkthrough from Unit 1 if you have any questions. "
   ]
  },
  {
   "cell_type": "markdown",
   "id": "44a3a5a1",
   "metadata": {},
   "source": [
    "### Step 5: Record Brief Code Walkthrough / Share Link with Tech Lead & SME "
   ]
  },
  {
   "cell_type": "markdown",
   "id": "585c953e",
   "metadata": {},
   "source": [
    "##### This step will be completed outside of Jupyter Notebook. See \"Submitting Project\" Video Walkthrough from Unit 1 if you have any questions. "
   ]
  }
 ],
 "metadata": {
  "kernelspec": {
   "display_name": "Python 3 (ipykernel)",
   "language": "python",
   "name": "python3"
  },
  "language_info": {
   "codemirror_mode": {
    "name": "ipython",
    "version": 3
   },
   "file_extension": ".py",
   "mimetype": "text/x-python",
   "name": "python",
   "nbconvert_exporter": "python",
   "pygments_lexer": "ipython3",
   "version": "3.9.16"
  },
  "vscode": {
   "interpreter": {
    "hash": "c261aea317cc0286b3b3261fbba9abdec21eaa57589985bb7a274bf54d6cc0a7"
   }
  }
 },
 "nbformat": 4,
 "nbformat_minor": 5
}
